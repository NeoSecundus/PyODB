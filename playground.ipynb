{
 "cells": [
  {
   "cell_type": "code",
   "execution_count": 3,
   "metadata": {},
   "outputs": [],
   "source": [
    "from src.pyodb._disassembly import disassemble\n",
    "from test.test_models.primitive_models import PrimitiveBasic, PrimitiveContainer\n",
    "from test.test_models.complex_models import ComplexBasic"
   ]
  },
  {
   "cell_type": "code",
   "execution_count": 4,
   "metadata": {},
   "outputs": [
    {
     "name": "stdout",
     "output_type": "stream",
     "text": [
      "PrimitiveBasic -> [PrimitiveBasic: {'integer': ['int'], 'number': ['float'], 'text': ['str'], 'truth': ['bool'], '_private': ['float'], 'classmember': ['str']}]\n",
      "PrimitiveContainer -> [PrimitiveContainer: {'listing': ['list'], 'dictionary': ['dict']}]\n",
      "ComplexBasic -> [ComplexBasic: {'random_number': ['int']}, PrimitiveBasic: {'integer': ['int'], 'number': ['float'], 'text': ['str'], 'truth': ['bool'], '_private': ['float'], 'classmember': ['str']}, PrimitiveContainer: {'listing': ['list'], 'dictionary': ['dict']}]\n"
     ]
    }
   ],
   "source": [
    "tables = disassemble(PrimitiveBasic())\n",
    "print(f\"PrimitiveBasic -> {tables}\")\n",
    "tables = disassemble(PrimitiveContainer())\n",
    "print(f\"PrimitiveContainer -> {tables}\")\n",
    "tables = disassemble(ComplexBasic())\n",
    "print(f\"ComplexBasic -> {tables}\")\n"
   ]
  },
  {
   "cell_type": "code",
   "execution_count": null,
   "metadata": {},
   "outputs": [],
   "source": []
  }
 ],
 "metadata": {
  "kernelspec": {
   "display_name": "pyodb",
   "language": "python",
   "name": "python3"
  },
  "language_info": {
   "codemirror_mode": {
    "name": "ipython",
    "version": 3
   },
   "file_extension": ".py",
   "mimetype": "text/x-python",
   "name": "python",
   "nbconvert_exporter": "python",
   "pygments_lexer": "ipython3",
   "version": "3.10.9"
  },
  "orig_nbformat": 4
 },
 "nbformat": 4,
 "nbformat_minor": 2
}
