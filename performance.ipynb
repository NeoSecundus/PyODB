{
 "cells": [
  {
   "cell_type": "markdown",
   "metadata": {},
   "source": [
    "# PyODB Performance Tests\n"
   ]
  },
  {
   "cell_type": "code",
   "execution_count": null,
   "metadata": {},
   "outputs": [],
   "source": [
    "import cProfile\n",
    "from datetime import datetime\n",
    "from pathlib import Path\n",
    "from tqdm import tqdm\n",
    "from time import sleep, time\n",
    "\n",
    "from src.pyodb.pyodb import PyODB, PyODBCache\n",
    "from test.test_models.complex_models import ComplexBasic, ComplexContainer, ComplexMulti\n",
    "from test.test_models.primitive_models import PrimitiveBasic, PrimitiveContainer"
   ]
  },
  {
   "cell_type": "code",
   "execution_count": null,
   "metadata": {},
   "outputs": [],
   "source": [
    "def test_insert_performance():\n",
    "    pyodb = PyODB(2)\n",
    "    pyodb.add_type(ComplexBasic)\n",
    "    pyodb.save(ComplexContainer())\n",
    "    pyodb.add_type(ComplexMulti)\n",
    "\n",
    "    for _ in tqdm(range(10)):\n",
    "        pyodb.save_multiple([ComplexBasic() for _ in range(100)])\n",
    "        pyodb.save_multiple([ComplexContainer() for _ in range(10)])\n",
    "        pyodb.save_multiple([ComplexMulti() for _ in range(100)])\n",
    "\n",
    "        pyodb.delete(ComplexBasic).gt(random_number = 0).commit()\n",
    "        pyodb.remove_type(ComplexContainer)\n",
    "        pyodb.add_type(ComplexContainer)\n",
    "    del pyodb\n",
    "\n",
    "\n",
    "base_path = Path(\".profile/\")\n",
    "base_path.mkdir(755, exist_ok=True)\n",
    "\n",
    "filepath = base_path / f\"profile_insert_{datetime.now().strftime('%y.%m.%d-%H.%M.%S')}.prof\"\n",
    "cProfile.run(\"test_insert_performance()\", filepath.as_posix())"
   ]
  },
  {
   "cell_type": "code",
   "execution_count": null,
   "metadata": {},
   "outputs": [],
   "source": [
    "def insert_base_data():\n",
    "    pyodb = PyODB(persistent=True)\n",
    "    pyodb.add_type(ComplexBasic)\n",
    "    pyodb.add_type(ComplexContainer)\n",
    "    pyodb.add_type(ComplexMulti)\n",
    "\n",
    "    for _ in tqdm(range(10), desc=\"Inserting base data\"):\n",
    "        pyodb.save_multiple([ComplexBasic() for _ in range(100)])\n",
    "        pyodb.save_multiple([ComplexContainer() for _ in range(10)])\n",
    "        pyodb.save_multiple([ComplexMulti() for _ in range(100)])\n",
    "\n",
    "\n",
    "def test_select_performance():\n",
    "    pyodb = PyODB()\n",
    "    for _ in tqdm(range(100), desc=\"Testing PrimitiveBasic\"):\n",
    "        pyodb.select(PrimitiveBasic).all()\n",
    "    for _ in tqdm(range(100), desc=\"Testing PrimitiveContainer\"):\n",
    "        pyodb.select(PrimitiveContainer).all()\n",
    "    for _ in tqdm(range(100), desc=\"Testing ComplexBasic\"):\n",
    "        pyodb.select(ComplexBasic).all()\n",
    "    for _ in tqdm(range(100), desc=\"Testing ComplexContainer\"):\n",
    "        pyodb.select(ComplexContainer).all()\n",
    "\n",
    "\n",
    "base_path = Path(\".profile/\")\n",
    "base_path.mkdir(755, exist_ok=True)\n",
    "\n",
    "filepath = base_path / f\"profile_select_{datetime.now().strftime('%y.%m.%d-%H.%M.%S')}.prof\"\n",
    "insert_base_data()\n",
    "cProfile.run(\"test_select_performance()\", filepath.as_posix())"
   ]
  },
  {
   "cell_type": "code",
   "execution_count": null,
   "metadata": {},
   "outputs": [],
   "source": [
    "cache = PyODBCache()\n",
    "cache.pyodb.persistent = True\n",
    "cache.add_cache(\"test\", lambda x: [PrimitiveBasic() for _ in range(x)], PrimitiveBasic, 2)\n",
    "print(cache.get_data(\"test\", 100))\n",
    "\n",
    "start = time()\n",
    "print(cache[\"test\"])\n",
    "print(time() - start)\n",
    "\n",
    "sleep(2)\n",
    "print(cache.get_data(\"test\", 1))\n",
    "del cache"
   ]
  },
  {
   "cell_type": "code",
   "execution_count": null,
   "metadata": {},
   "outputs": [],
   "source": [
    "from pprint import pprint\n",
    "pprint(dict(globals()))"
   ]
  }
 ],
 "metadata": {
  "kernelspec": {
   "display_name": "pyodb",
   "language": "python",
   "name": "python3"
  },
  "language_info": {
   "codemirror_mode": {
    "name": "ipython",
    "version": 3
   },
   "file_extension": ".py",
   "mimetype": "text/x-python",
   "name": "python",
   "nbconvert_exporter": "python",
   "pygments_lexer": "ipython3",
   "version": "3.10.9"
  },
  "orig_nbformat": 4,
  "vscode": {
   "interpreter": {
    "hash": "d9a58e08c92b235b2d23b34b70556fa5089934888fdddd259328d7ff64bd1b4a"
   }
  }
 },
 "nbformat": 4,
 "nbformat_minor": 2
}
