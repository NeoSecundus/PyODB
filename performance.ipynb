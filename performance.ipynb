{
 "cells": [
  {
   "cell_type": "markdown",
   "metadata": {},
   "source": [
    "# PyODB Performance Tests\n"
   ]
  },
  {
   "cell_type": "code",
   "execution_count": 1,
   "metadata": {},
   "outputs": [],
   "source": [
    "import cProfile\n",
    "from datetime import datetime\n",
    "from pathlib import Path\n",
    "from tqdm import tqdm\n",
    "from time import sleep, time\n",
    "\n",
    "from pyodb import PyODB, PyODBCache\n",
    "from test.test_models.complex_models import ComplexBasic, ComplexContainer, ComplexMulti\n",
    "from test.test_models.primitive_models import PrimitiveBasic, PrimitiveContainer"
   ]
  },
  {
   "cell_type": "code",
   "execution_count": null,
   "metadata": {},
   "outputs": [],
   "source": [
    "def test_insert_performance():\n",
    "    pyodb = PyODB(2)\n",
    "    pyodb.add_type(ComplexBasic)\n",
    "    pyodb.save(ComplexContainer())\n",
    "    pyodb.add_type(ComplexMulti)\n",
    "\n",
    "    for _ in tqdm(range(10)):\n",
    "        pyodb.save_multiple([ComplexBasic() for _ in range(100)])\n",
    "        pyodb.save_multiple([ComplexContainer() for _ in range(10)])\n",
    "        pyodb.save_multiple([ComplexMulti() for _ in range(100)])\n",
    "\n",
    "        pyodb.delete(ComplexBasic).gt(random_number = 0).commit()\n",
    "        pyodb.remove_type(ComplexContainer)\n",
    "        pyodb.add_type(ComplexContainer)\n",
    "    del pyodb\n",
    "\n",
    "\n",
    "base_path = Path(\".profile/\")\n",
    "base_path.mkdir(755, exist_ok=True)\n",
    "\n",
    "filepath = base_path / f\"profile_insert_{datetime.now().strftime('%y.%m.%d-%H.%M.%S')}.prof\"\n",
    "cProfile.run(\"test_insert_performance()\", filepath.as_posix())"
   ]
  },
  {
   "cell_type": "code",
   "execution_count": null,
   "metadata": {},
   "outputs": [],
   "source": [
    "def insert_base_data():\n",
    "    pyodb = PyODB(persistent=True)\n",
    "    pyodb.add_type(ComplexBasic)\n",
    "    pyodb.add_type(ComplexContainer)\n",
    "    pyodb.add_type(ComplexMulti)\n",
    "\n",
    "    for _ in tqdm(range(10), desc=\"Inserting base data\"):\n",
    "        pyodb.save_multiple([ComplexBasic() for _ in range(100)])\n",
    "        pyodb.save_multiple([ComplexContainer() for _ in range(10)])\n",
    "        pyodb.save_multiple([ComplexMulti() for _ in range(100)])\n",
    "\n",
    "\n",
    "def test_select_performance():\n",
    "    pyodb = PyODB()\n",
    "    for _ in tqdm(range(100), desc=\"Testing PrimitiveBasic\"):\n",
    "        pyodb.select(PrimitiveBasic).all()\n",
    "    for _ in tqdm(range(100), desc=\"Testing PrimitiveContainer\"):\n",
    "        pyodb.select(PrimitiveContainer).all()\n",
    "    for _ in tqdm(range(100), desc=\"Testing ComplexBasic\"):\n",
    "        pyodb.select(ComplexBasic).all()\n",
    "    for _ in tqdm(range(100), desc=\"Testing ComplexContainer\"):\n",
    "        pyodb.select(ComplexContainer).all()\n",
    "\n",
    "\n",
    "base_path = Path(\".profile/\")\n",
    "base_path.mkdir(755, exist_ok=True)\n",
    "\n",
    "filepath = base_path / f\"profile_select_{datetime.now().strftime('%y.%m.%d-%H.%M.%S')}.prof\"\n",
    "insert_base_data()\n",
    "cProfile.run(\"test_select_performance()\", filepath.as_posix())"
   ]
  },
  {
   "cell_type": "code",
   "execution_count": 2,
   "metadata": {},
   "outputs": [
    {
     "name": "stdout",
     "output_type": "stream",
     "text": [
      "[PrimitiveBasic: 211, -205.81095785973758, 'pOU0whT>=P&D\"mG[6=W3P,xj3)Gd5ooL}&}5Sg', False, PrimitiveBasic: 938, -630.7083447040644, '(N_m4}PJp', True, PrimitiveBasic: -682, None, '_.X=VT=I', False, PrimitiveBasic: 935, -153.1709253569844, 'I>f_AO7K48/Q,(Q°EPz/EjLdy´,;7fF+X´tA3Q{!lbmU ~uNt46Uz°j´TkuZl!v\\p&', False, PrimitiveBasic: 229, -341.10745885719695, 'XCs[FRb´sD:Q&Y cRPeQ\\m>>*WBF>,8[:EA;w_~n=Nye`G)7>//;°bm3O{k+;G$E<', True, PrimitiveBasic: -988, None, '`L#Gtfts1$cO[$-5Q=Qk(\"[pK/Z9k|v=°Fvr´ $\\+Vk/§ONoS4{§LUIS§*o\\bgN.ppN:#g7x5KJ>Gw}ygMHL(XiOZqK];\"VTW#v', True, PrimitiveBasic: -589, 879.6848070225527, 'gjoq\"9Id28jR(-H}{a5HT4!&|Y~l^C9<RWLPs`y\"*H>7#siF7IFB7HR]-°1oGd/!kPN'A&=1~|(*1dqW$tAAeAu[[!QgpF', True, PrimitiveBasic: 454, -190.41721752945207, 'N'AQ'vSwkFun7}Rz5bu^/\\ &aOwKv>3b', False, PrimitiveBasic: 151, 837.7099247039572, 'J*3J8O5!Ef\"', False, PrimitiveBasic: -603, 519.1526577794174, '&´HkF&7q<,}1vVuK,*SY9)cp4nPU'm,JxT', True, PrimitiveBasic: -914, -875.4853008973093, 'J8NdkTYo{0.N`l1-FqUn7{\";Ih;SlM;\\sHX{!nHB´Q<QF9[>v', True, PrimitiveBasic: 82, -353.3863376930051, '3', True, PrimitiveBasic: -558, None, '5\\M9|§Yn$XybKv84yK$~&r6C:v´V)B#L´EY4Q>PG+h#K', False, PrimitiveBasic: 793, 140.50131846904313, '\\#l°H:< 4\\Frr_Gcp{Q1q;i!f,^w', False, PrimitiveBasic: 350, 167.0525989499043, '^2{1m[\\lWsY:J&^_fj]~s't0q~K(\"\\P§`k$<!wNiHv=byq0oP>.gUSx{3q', False, PrimitiveBasic: 716, 371.74127099582967, 'k2ca_YUY|mU4 8M#ddb~TJp]4})Q'~j§M{tic;C(~vH$#hW67!VcH)r}3(w2snvV^i[a&;', True, PrimitiveBasic: 150, None, '$9\\q^w~B522G^CMn'\"_869Lo8i\\Tfd&f$Xr\"r`N6XX9LeFX6^mcsc9o/c\"0(GK/o]Xg\\WalP[Fn'tK)]k5QZPT:[NcsRW5', True, PrimitiveBasic: -945, -102.3198403666552, ''zLu#07B}3ZAu9av*Mz^i:`fqkHn&!xIWrbeR+[zmu<!3NUn:', False, PrimitiveBasic: 201, 649.9208038567064, 'ds2eP:/§Iy`X0\\c};amjZkzq°3U\\$(QBKL5!N+f§,WTUqEOXp~Q]sTS°Vx2=t<JT!DQu2!t#<MuAV/#ZI>(r])t', True, PrimitiveBasic: 166, -932.2332754955049, 'C+ZskZ\"n9b]'PrJV_f_J4;k2X78Q7h', True, PrimitiveBasic: 588, None, 'Q{uYbHL\\=<Lhx_k', True, PrimitiveBasic: 695, 514.3050491136476, '3S', True, PrimitiveBasic: 655, -615.1758896623319, 'A9&<XE!-l:&D§IwnNQ~A|4(y!uc|p(^v|5q=#9`-`]\"ENn9', False, PrimitiveBasic: -258, -601.6132865439346, '1v\"#;*m0T=1p7CD2nj', True, PrimitiveBasic: 490, -56.040279798457604, ''n°-', True, PrimitiveBasic: 510, 352.42715411847803, '#`°We>v.yl[Z9(aQ\\JgT', False, PrimitiveBasic: 732, 340.55291951606904, 'qtcw', False, PrimitiveBasic: 316, None, '<v1!zJwt2r6A{K; QA]´§/|x2v87ue§  E&§&j.s´r7G28OeR~WL6RI°SlY LQyP°8k<\"EWlmu#g0y'x${gXNMgM', True, PrimitiveBasic: 443, -570.9082678098412, 'Vm,)bKYorQ0unOt8U+jhHwut5fw6EBy;wxvyb.[~|bcJ]e);4\\onW3d45^K&k,9PYq', True, PrimitiveBasic: 955, 682.6087568569175, 'EJB<mxF>;HG1MM_pP]r\"E+Ri<ix', True, PrimitiveBasic: -354, None, 'K1', True, PrimitiveBasic: -561, 163.10825041468368, 'jC°VF8]F{ZV&5>W~+Qin)BiN$tMY\"j§<|oIE*9M)rXxH[biIcP|[r2PGC]{°15z8E`X)'!5YUKSgr', False, PrimitiveBasic: -449, 95.46155937572442, 'R!Y>x^$25uuPGg&I3Pt=Ssa/p', True, PrimitiveBasic: 224, None, '53,El3°0J154ioG{}YL§6PEsb', True, PrimitiveBasic: -929, None, '<E4xk;ZF2l§wxg,§wfBJb9M#+)#N*GMA5Gj2ImP!uHtIP(VvvTW!§z', True, PrimitiveBasic: -752, -510.40387377184015, '2<8H=6R;:0SMw)g`PCh47gl$&[*d(3;p[[9B;<E5#vJ~9,G*;O,a/k0SkB{],(07=9_W', False, PrimitiveBasic: -119, None, 'o/abB{rHd}a<[t3{fLmRFC-A2)t§)m0uSRwWo{|U;#6~SD:|tOd!/V2´s<|', True, PrimitiveBasic: -750, -387.7220055424442, '|:!<~,7E/{4du7gQ$^9Y4,:ck;_KX~m!nFI]~X$c,'a-wFuR>ixsCC/§x§', False, PrimitiveBasic: 279, -704.7302703897292, 'U)GPWZ8\"°^:g+N$-,rSOi4ljeHl+\\-DP7PAS-125H78i>'XY°Q&p#u}I]J{]LFp(n5W/'v064~)&6MIZU=Qyh´+', False, PrimitiveBasic: -303, None, ')4[°lh&L6Hc6;_UW9.>w`Rl§U<$7Xu:R{h§Ex^T9u{]gV)7U T6I°STv#9YpezVp5D!fdK.+]n>|`wnCwT_Ki{Vk_v/{Q;,&\\u'9', True, PrimitiveBasic: -774, 191.56980296067096, '°BoSK', False, PrimitiveBasic: 666, -382.43951158152555, '`´-qxMhxq;*|g<36KE=CrlLhx1++*urVedQOfa9f´laY§===(°\\XTH8_LxlFnz-°v:', True, PrimitiveBasic: -281, 582.4136875340245, 'qSUJx8mwU-pi|[=m[1', False, PrimitiveBasic: 733, 661.7594972634304, '&>§SI> xrJE&JB4*.UO`BR!EPT|j°h/gSc~T]o6FgWvBW;Cu;O8AJs/<2\\', True, PrimitiveBasic: -129, None, 'a.lL}x&W^§°,P6Xmz|RGduL[)JCH6C.3Rf&´^/°t/K5]sXt|jt', False, PrimitiveBasic: -903, 211.5876416078979, '4D[`LblY!k)1xy.BBD/P|<\"kt{q´M9°§uK}kQ&WXRl_iJ_t+9 /\\d', False, PrimitiveBasic: 429, 602.1043531588004, 'aeCn*,°G(UY', True, PrimitiveBasic: -309, -568.2785634210913, '[8.)02~18Doq4!Vcq8L54hOijI´mXTk6X*1wt#<~W {F)C;P+'_o$0_$9WCz]RtxHL7wa3N_&B8m8pz', False, PrimitiveBasic: 552, -170.22366603131013, '°Mr:pCPuq,8:|Jc,gAaYYYCi$ycLVEI6j,ZV1v#S1-4V`X;<>Ug^,=scE(+0uxe*e=->u/4'=fD;gYs/Rp5*MW4NgHBv6iHwCKim', True, PrimitiveBasic: 118, -730.4844422745884, '>Lq|x13m/}^aSQ*-oq5Qk-R(;R~T-D.*>-GTc_xRgft~2X ', False, PrimitiveBasic: 859, None, '40>M}_QF j^{XBhZySDHjX5K§v`S', False, PrimitiveBasic: 757, -911.1218595272641, '\"'F_P)d),)Y]e,1kMkD[R:kJ', True, PrimitiveBasic: -375, None, 'fkxOM!!a/$.H5drLV\\n#I5QiLH)P8H(~;,O(u&dW7}}nlftB!m5IN5JB1,$;'p3OJeg}Y#D9Xz)72´Yu', True, PrimitiveBasic: -155, 415.1202522285042, '_Wi#(=)!{u,JI^}N./&28D_', True, PrimitiveBasic: -641, None, 'a´~1n3f9</', True, PrimitiveBasic: 616, -286.7195305185295, 'j^=4\\O&|3D56ALd;({U[kf`WyYV`V3cX5Cm2a-8iv°Kz2}Y8M:a+ Lir$w;L=vk°H'mS`)Dt`55ly', False, PrimitiveBasic: 374, 176.32420271193917, ';o{)4:5T\"17o]CLS8vS,L~v7&K$~&AWK><B>][W9-}o74T[u,DpOqViGAzTp1k<iYL!BpU/§gfiKhtxp4|jNTGJcK$=-', True, PrimitiveBasic: -555, None, '§.!E5h6{°}~w(N}Er>F!f9-p+Xn1nH\"^§:MD] /C}BY++m|vKU6MDQCTB_', True, PrimitiveBasic: -334, -384.75696633607856, 'RE[G§\"(Qi§'qAmf2)rzuCr}IB43iOcJ$wZ2´', True, PrimitiveBasic: 457, 242.03997031644175, '2r9gv§/(/+:VQq´q[C}/oL.Cu#qP\\ejSlV+l4qCm{mG7]0HP_xniHxu^', False, PrimitiveBasic: -524, 656.1008885250559, 'cB\"BOs->TJH9', False, PrimitiveBasic: 601, 770.0122634599034, 'K5vASeg)I\";-|P-vO8_Mom]O!tug_j:9^ZD*;B-iZ]4gW', False, PrimitiveBasic: 593, -598.1050751039659, '`2§qQ*lT´~z_b`', True, PrimitiveBasic: -606, 443.01111228582715, 'y', False, PrimitiveBasic: -535, 90.3790711960608, '<°8DgoY,!prP°X9clA45Ks3:q31B#G8RNmI´]RsY5RJ}Srf|a]°§aZ_e}-LCl(L5(:7°nl0m7':x\\Qw^', False, PrimitiveBasic: 962, None, '}-´2Q\"!0>`P§*;)~OW.§&'9sw:\"Ulyjp p+`Wq2a)Du>5``Ra\"L5/0\"U>|Qb§mt)vr[', True, PrimitiveBasic: -513, -259.118764546183, 'e]7JA&)dSNyBm=*h^HX)', False, PrimitiveBasic: -815, -437.46329935815885, '+=.)u~§R<;\\ekhS=F(p9Pg3DDzRS:P8tl9Xd_yLZ3ykE°y)3x\\LUh_zXscw7LL/ySjuInpFZBz/Gd`a>OA*jZ0[Ah', True, PrimitiveBasic: 825, -134.0025548268091, 'y;7!8(-°Q}lEU0isce7jFdbtk°,[´#GHiBybA*-WUsaL05tF49D<{9=`\\UT87FL', False, PrimitiveBasic: 593, 431.17609382113665, '63}}B'X\"wvs1Z°{Vdkv)8', True, PrimitiveBasic: 111, -365.5717997748538, '8ynw<y', True, PrimitiveBasic: -408, None, 'q`-yVbCUvJ6Y:*kG7HuW61/-MPfe17(!V^-X*8W'$Jb´z>}Vvi} ;.+oN)O95pa2wAOcP', True, PrimitiveBasic: -822, None, '!-c|§h:oYqG& :8$$':°_Aq`´{c§t/:o\\whXX6h-lO\\)se`\\Bd;8', True, PrimitiveBasic: -500, None, ';I°oX3e ou:U +{QoS(>>4\"´xj8.Z=Q)<6RDr'z\"~uvujzsb|c`SL°\\Ksd[r20yT{*1,op°L6VCY]Ltc', True, PrimitiveBasic: -496, 829.1247032346524, '|NR\\(zf´lXU78{:DVTAct$_UgB&´n#l|°Zj;f{qMzNP', False, PrimitiveBasic: -332, -979.5569234908619, 'r66`Yy,3P:;}1)W^5Iu1t*´_3Zy´|)\"Baclb#asuD0N6`8', True, PrimitiveBasic: -371, None, '8\\nj>d(!\"8C*(<4l.vVp\"p2;o$:[K^jZ\"\\1:', False, PrimitiveBasic: 812, 703.1846239427333, 'B^$kX}z N29qqi}a56v':Rn-jxdSQ9wx', False, PrimitiveBasic: -971, 394.3564062333933, 'F\\'EOn|\\GRbEx*H3]^\\&R=THYzV\"5\\\\,pWsB;Mu#I7wb0JGYP°]', True, PrimitiveBasic: 210, -102.45083699375024, ''`y&C]kB$6R2hzg*M<\"° (3y6u-CS7v1\\`&&X[IBXY°Bu~'}´Hf\"^3iueb>cXy4YX1~zIB(!} U6Nbb6_yR-v`QC {c', False, PrimitiveBasic: 414, None, 'IH[/`{IT\"mYypi25Y-r'n.XKW($7w_', True, PrimitiveBasic: 806, -263.9290446545564, '}t|jZ>.JWpLfd>´j 3X/81<]oL0cQ F:zrfb*LZG#GsLbVP|{<'Qbo'HcD{]f\\ACC3', True, PrimitiveBasic: -842, -281.023672712819, '+[EuhondB!2M!_)c§N!'IKwH\\mM/D:', True, PrimitiveBasic: -921, None, 'Wh!;#3°p=j{^8|t°;2K9r_c*y_!l Z)(l{E+P#CkCCQs-s7aj1[kax<(°x.tIZE', False, PrimitiveBasic: -78, 970.4302138249627, '}tsYPSsF<hQDHyvB`:bz|FT|;§e~`dcN u 6T!>:!Yt\\:'\"7(Wu$ZuJS', False, PrimitiveBasic: -68, None, 'Q>8°/D|^,;:XE=QoE)4wym^e>\"x;5j{xOq<^g3.g.J8-'f0D:|S4[Vpz#A\\]^ZX:2C\\Q'', True, PrimitiveBasic: 888, None, ':\\+\\\\°UdT;w!QkT7[PNFh8>*4,>nh8I.8^)JxJKFD.3Oi>W<§[^$:yA\"_u-e&=[4d5mS[CU4', False, PrimitiveBasic: 625, None, '6QUPC/H{FpH79+Gfl~lm8nES2h|uvK;OX{JT,Ej!TN.>6*1]t=3rrm´qJHEx0{\"', True, PrimitiveBasic: -10, 76.12810804032976, ']+2|UZ:Qtq+rd<lJJR', False, PrimitiveBasic: 370, 91.66547677239988, '+}dr|N0/§Xq!XE<c^[{zETP´fnmvVi2s.mIdAAIaJ1BC\\Mq:cZ#Xpl1A20oRy&^_`Ll7rD5°´Q´;f/LVOhx#{Xo3:&OG0&}<7', False, PrimitiveBasic: -363, None, '>}CPrI.HC[sH\"1&EvDo(CV6hZ#qY>cqP4bzOdeD2i:rsO*59gCHeTU-d4cVOu|+gf'^/wF23FmhJ(j.~X!eEU*ng0Bw§)`x&bC', False, PrimitiveBasic: -311, -542.4028626145157, 'v$W+/Vg/}de1´h[ybm]A´RoMq/JDmH*p2SsGs7,G^KJt\\z1+BGysg;N'8', True, PrimitiveBasic: -721, 367.38921259533595, 'ED5&\\´M2`ELJ9OP WT*2J8JG+>rEqZ|ZU>', True, PrimitiveBasic: -521, 311.8750856661083, ' ,~2Xse~{|,;G_m a2 kPU', True, PrimitiveBasic: 133, 634.1830236699726, '`$J!<Te06[L|kLqhqjtZ9*`a]J:n7´'Tx.q7v', True, PrimitiveBasic: 565, None, 'Mzm3Sf_8tX2e=Q`M:´t`:LPq,$+YiLN>K4[§E:#4o}\"0+:Vkt5´4§/-;lYga]a´zg+Ycyn°mU', False, PrimitiveBasic: -776, 472.1134295427929, '-y '(+de.[{J°AroHcE*_xy#PYQd`v:[1$(2°(~Yd9mL+WrP<xx&>.E.yz+,ud<h^F1§jSyiI+Op.´}sT;&´g!5Ig', False, PrimitiveBasic: -576, None, 'b7ZZz1^ _ z6P>+^#OQ`}9qLb0jeuScJ§+qBD*RP\\-b&5+/y°Zzk\"0#OqxkW>u{mSvh>`{xQ =°Lb&G2k8}wz0l[', True, PrimitiveBasic: 386, 124.4519973426641, '.,(#upWQ|SKNLqJ(L1r\\2]o)AdG4_BCWv`°{yWVJ}Z&+°b;l1mwh(kgv°N4)BxxF9vYhT|H`.MheG`VM'qC'+L>tJv:+N', True, PrimitiveBasic: -471, -329.9258654816699, '°IkVK)|=Ax^ 0d.0h´>y3L^'_L0<cjV^&>+Uv[PYo>p', True]\n",
      "[PrimitiveBasic: 211, -205.81095785973758, 'pOU0whT>=P&D\"mG[6=W3P,xj3)Gd5ooL}&}5Sg', False, PrimitiveBasic: 938, -630.7083447040644, '(N_m4}PJp', True, PrimitiveBasic: -682, None, '_.X=VT=I', False, PrimitiveBasic: 935, -153.1709253569844, 'I>f_AO7K48/Q,(Q°EPz/EjLdy´,;7fF+X´tA3Q{!lbmU ~uNt46Uz°j´TkuZl!v\\p&', False, PrimitiveBasic: 229, -341.10745885719695, 'XCs[FRb´sD:Q&Y cRPeQ\\m>>*WBF>,8[:EA;w_~n=Nye`G)7>//;°bm3O{k+;G$E<', True, PrimitiveBasic: -988, None, '`L#Gtfts1$cO[$-5Q=Qk(\"[pK/Z9k|v=°Fvr´ $\\+Vk/§ONoS4{§LUIS§*o\\bgN.ppN:#g7x5KJ>Gw}ygMHL(XiOZqK];\"VTW#v', True, PrimitiveBasic: -589, 879.6848070225527, 'gjoq\"9Id28jR(-H}{a5HT4!&|Y~l^C9<RWLPs`y\"*H>7#siF7IFB7HR]-°1oGd/!kPN'A&=1~|(*1dqW$tAAeAu[[!QgpF', True, PrimitiveBasic: 454, -190.41721752945207, 'N'AQ'vSwkFun7}Rz5bu^/\\ &aOwKv>3b', False, PrimitiveBasic: 151, 837.7099247039572, 'J*3J8O5!Ef\"', False, PrimitiveBasic: -603, 519.1526577794174, '&´HkF&7q<,}1vVuK,*SY9)cp4nPU'm,JxT', True, PrimitiveBasic: -914, -875.4853008973093, 'J8NdkTYo{0.N`l1-FqUn7{\";Ih;SlM;\\sHX{!nHB´Q<QF9[>v', True, PrimitiveBasic: 82, -353.3863376930051, '3', True, PrimitiveBasic: -558, None, '5\\M9|§Yn$XybKv84yK$~&r6C:v´V)B#L´EY4Q>PG+h#K', False, PrimitiveBasic: 793, 140.50131846904313, '\\#l°H:< 4\\Frr_Gcp{Q1q;i!f,^w', False, PrimitiveBasic: 350, 167.0525989499043, '^2{1m[\\lWsY:J&^_fj]~s't0q~K(\"\\P§`k$<!wNiHv=byq0oP>.gUSx{3q', False, PrimitiveBasic: 716, 371.74127099582967, 'k2ca_YUY|mU4 8M#ddb~TJp]4})Q'~j§M{tic;C(~vH$#hW67!VcH)r}3(w2snvV^i[a&;', True, PrimitiveBasic: 150, None, '$9\\q^w~B522G^CMn'\"_869Lo8i\\Tfd&f$Xr\"r`N6XX9LeFX6^mcsc9o/c\"0(GK/o]Xg\\WalP[Fn'tK)]k5QZPT:[NcsRW5', True, PrimitiveBasic: -945, -102.3198403666552, ''zLu#07B}3ZAu9av*Mz^i:`fqkHn&!xIWrbeR+[zmu<!3NUn:', False, PrimitiveBasic: 201, 649.9208038567064, 'ds2eP:/§Iy`X0\\c};amjZkzq°3U\\$(QBKL5!N+f§,WTUqEOXp~Q]sTS°Vx2=t<JT!DQu2!t#<MuAV/#ZI>(r])t', True, PrimitiveBasic: 166, -932.2332754955049, 'C+ZskZ\"n9b]'PrJV_f_J4;k2X78Q7h', True, PrimitiveBasic: 588, None, 'Q{uYbHL\\=<Lhx_k', True, PrimitiveBasic: 695, 514.3050491136476, '3S', True, PrimitiveBasic: 655, -615.1758896623319, 'A9&<XE!-l:&D§IwnNQ~A|4(y!uc|p(^v|5q=#9`-`]\"ENn9', False, PrimitiveBasic: -258, -601.6132865439346, '1v\"#;*m0T=1p7CD2nj', True, PrimitiveBasic: 490, -56.040279798457604, ''n°-', True, PrimitiveBasic: 510, 352.42715411847803, '#`°We>v.yl[Z9(aQ\\JgT', False, PrimitiveBasic: 732, 340.55291951606904, 'qtcw', False, PrimitiveBasic: 316, None, '<v1!zJwt2r6A{K; QA]´§/|x2v87ue§  E&§&j.s´r7G28OeR~WL6RI°SlY LQyP°8k<\"EWlmu#g0y'x${gXNMgM', True, PrimitiveBasic: 443, -570.9082678098412, 'Vm,)bKYorQ0unOt8U+jhHwut5fw6EBy;wxvyb.[~|bcJ]e);4\\onW3d45^K&k,9PYq', True, PrimitiveBasic: 955, 682.6087568569175, 'EJB<mxF>;HG1MM_pP]r\"E+Ri<ix', True, PrimitiveBasic: -354, None, 'K1', True, PrimitiveBasic: -561, 163.10825041468368, 'jC°VF8]F{ZV&5>W~+Qin)BiN$tMY\"j§<|oIE*9M)rXxH[biIcP|[r2PGC]{°15z8E`X)'!5YUKSgr', False, PrimitiveBasic: -449, 95.46155937572442, 'R!Y>x^$25uuPGg&I3Pt=Ssa/p', True, PrimitiveBasic: 224, None, '53,El3°0J154ioG{}YL§6PEsb', True, PrimitiveBasic: -929, None, '<E4xk;ZF2l§wxg,§wfBJb9M#+)#N*GMA5Gj2ImP!uHtIP(VvvTW!§z', True, PrimitiveBasic: -752, -510.40387377184015, '2<8H=6R;:0SMw)g`PCh47gl$&[*d(3;p[[9B;<E5#vJ~9,G*;O,a/k0SkB{],(07=9_W', False, PrimitiveBasic: -119, None, 'o/abB{rHd}a<[t3{fLmRFC-A2)t§)m0uSRwWo{|U;#6~SD:|tOd!/V2´s<|', True, PrimitiveBasic: -750, -387.7220055424442, '|:!<~,7E/{4du7gQ$^9Y4,:ck;_KX~m!nFI]~X$c,'a-wFuR>ixsCC/§x§', False, PrimitiveBasic: 279, -704.7302703897292, 'U)GPWZ8\"°^:g+N$-,rSOi4ljeHl+\\-DP7PAS-125H78i>'XY°Q&p#u}I]J{]LFp(n5W/'v064~)&6MIZU=Qyh´+', False, PrimitiveBasic: -303, None, ')4[°lh&L6Hc6;_UW9.>w`Rl§U<$7Xu:R{h§Ex^T9u{]gV)7U T6I°STv#9YpezVp5D!fdK.+]n>|`wnCwT_Ki{Vk_v/{Q;,&\\u'9', True, PrimitiveBasic: -774, 191.56980296067096, '°BoSK', False, PrimitiveBasic: 666, -382.43951158152555, '`´-qxMhxq;*|g<36KE=CrlLhx1++*urVedQOfa9f´laY§===(°\\XTH8_LxlFnz-°v:', True, PrimitiveBasic: -281, 582.4136875340245, 'qSUJx8mwU-pi|[=m[1', False, PrimitiveBasic: 733, 661.7594972634304, '&>§SI> xrJE&JB4*.UO`BR!EPT|j°h/gSc~T]o6FgWvBW;Cu;O8AJs/<2\\', True, PrimitiveBasic: -129, None, 'a.lL}x&W^§°,P6Xmz|RGduL[)JCH6C.3Rf&´^/°t/K5]sXt|jt', False, PrimitiveBasic: -903, 211.5876416078979, '4D[`LblY!k)1xy.BBD/P|<\"kt{q´M9°§uK}kQ&WXRl_iJ_t+9 /\\d', False, PrimitiveBasic: 429, 602.1043531588004, 'aeCn*,°G(UY', True, PrimitiveBasic: -309, -568.2785634210913, '[8.)02~18Doq4!Vcq8L54hOijI´mXTk6X*1wt#<~W {F)C;P+'_o$0_$9WCz]RtxHL7wa3N_&B8m8pz', False, PrimitiveBasic: 552, -170.22366603131013, '°Mr:pCPuq,8:|Jc,gAaYYYCi$ycLVEI6j,ZV1v#S1-4V`X;<>Ug^,=scE(+0uxe*e=->u/4'=fD;gYs/Rp5*MW4NgHBv6iHwCKim', True, PrimitiveBasic: 118, -730.4844422745884, '>Lq|x13m/}^aSQ*-oq5Qk-R(;R~T-D.*>-GTc_xRgft~2X ', False, PrimitiveBasic: 859, None, '40>M}_QF j^{XBhZySDHjX5K§v`S', False, PrimitiveBasic: 757, -911.1218595272641, '\"'F_P)d),)Y]e,1kMkD[R:kJ', True, PrimitiveBasic: -375, None, 'fkxOM!!a/$.H5drLV\\n#I5QiLH)P8H(~;,O(u&dW7}}nlftB!m5IN5JB1,$;'p3OJeg}Y#D9Xz)72´Yu', True, PrimitiveBasic: -155, 415.1202522285042, '_Wi#(=)!{u,JI^}N./&28D_', True, PrimitiveBasic: -641, None, 'a´~1n3f9</', True, PrimitiveBasic: 616, -286.7195305185295, 'j^=4\\O&|3D56ALd;({U[kf`WyYV`V3cX5Cm2a-8iv°Kz2}Y8M:a+ Lir$w;L=vk°H'mS`)Dt`55ly', False, PrimitiveBasic: 374, 176.32420271193917, ';o{)4:5T\"17o]CLS8vS,L~v7&K$~&AWK><B>][W9-}o74T[u,DpOqViGAzTp1k<iYL!BpU/§gfiKhtxp4|jNTGJcK$=-', True, PrimitiveBasic: -555, None, '§.!E5h6{°}~w(N}Er>F!f9-p+Xn1nH\"^§:MD] /C}BY++m|vKU6MDQCTB_', True, PrimitiveBasic: -334, -384.75696633607856, 'RE[G§\"(Qi§'qAmf2)rzuCr}IB43iOcJ$wZ2´', True, PrimitiveBasic: 457, 242.03997031644175, '2r9gv§/(/+:VQq´q[C}/oL.Cu#qP\\ejSlV+l4qCm{mG7]0HP_xniHxu^', False, PrimitiveBasic: -524, 656.1008885250559, 'cB\"BOs->TJH9', False, PrimitiveBasic: 601, 770.0122634599034, 'K5vASeg)I\";-|P-vO8_Mom]O!tug_j:9^ZD*;B-iZ]4gW', False, PrimitiveBasic: 593, -598.1050751039659, '`2§qQ*lT´~z_b`', True, PrimitiveBasic: -606, 443.01111228582715, 'y', False, PrimitiveBasic: -535, 90.3790711960608, '<°8DgoY,!prP°X9clA45Ks3:q31B#G8RNmI´]RsY5RJ}Srf|a]°§aZ_e}-LCl(L5(:7°nl0m7':x\\Qw^', False, PrimitiveBasic: 962, None, '}-´2Q\"!0>`P§*;)~OW.§&'9sw:\"Ulyjp p+`Wq2a)Du>5``Ra\"L5/0\"U>|Qb§mt)vr[', True, PrimitiveBasic: -513, -259.118764546183, 'e]7JA&)dSNyBm=*h^HX)', False, PrimitiveBasic: -815, -437.46329935815885, '+=.)u~§R<;\\ekhS=F(p9Pg3DDzRS:P8tl9Xd_yLZ3ykE°y)3x\\LUh_zXscw7LL/ySjuInpFZBz/Gd`a>OA*jZ0[Ah', True, PrimitiveBasic: 825, -134.0025548268091, 'y;7!8(-°Q}lEU0isce7jFdbtk°,[´#GHiBybA*-WUsaL05tF49D<{9=`\\UT87FL', False, PrimitiveBasic: 593, 431.17609382113665, '63}}B'X\"wvs1Z°{Vdkv)8', True, PrimitiveBasic: 111, -365.5717997748538, '8ynw<y', True, PrimitiveBasic: -408, None, 'q`-yVbCUvJ6Y:*kG7HuW61/-MPfe17(!V^-X*8W'$Jb´z>}Vvi} ;.+oN)O95pa2wAOcP', True, PrimitiveBasic: -822, None, '!-c|§h:oYqG& :8$$':°_Aq`´{c§t/:o\\whXX6h-lO\\)se`\\Bd;8', True, PrimitiveBasic: -500, None, ';I°oX3e ou:U +{QoS(>>4\"´xj8.Z=Q)<6RDr'z\"~uvujzsb|c`SL°\\Ksd[r20yT{*1,op°L6VCY]Ltc', True, PrimitiveBasic: -496, 829.1247032346524, '|NR\\(zf´lXU78{:DVTAct$_UgB&´n#l|°Zj;f{qMzNP', False, PrimitiveBasic: -332, -979.5569234908619, 'r66`Yy,3P:;}1)W^5Iu1t*´_3Zy´|)\"Baclb#asuD0N6`8', True, PrimitiveBasic: -371, None, '8\\nj>d(!\"8C*(<4l.vVp\"p2;o$:[K^jZ\"\\1:', False, PrimitiveBasic: 812, 703.1846239427333, 'B^$kX}z N29qqi}a56v':Rn-jxdSQ9wx', False, PrimitiveBasic: -971, 394.3564062333933, 'F\\'EOn|\\GRbEx*H3]^\\&R=THYzV\"5\\\\,pWsB;Mu#I7wb0JGYP°]', True, PrimitiveBasic: 210, -102.45083699375024, ''`y&C]kB$6R2hzg*M<\"° (3y6u-CS7v1\\`&&X[IBXY°Bu~'}´Hf\"^3iueb>cXy4YX1~zIB(!} U6Nbb6_yR-v`QC {c', False, PrimitiveBasic: 414, None, 'IH[/`{IT\"mYypi25Y-r'n.XKW($7w_', True, PrimitiveBasic: 806, -263.9290446545564, '}t|jZ>.JWpLfd>´j 3X/81<]oL0cQ F:zrfb*LZG#GsLbVP|{<'Qbo'HcD{]f\\ACC3', True, PrimitiveBasic: -842, -281.023672712819, '+[EuhondB!2M!_)c§N!'IKwH\\mM/D:', True, PrimitiveBasic: -921, None, 'Wh!;#3°p=j{^8|t°;2K9r_c*y_!l Z)(l{E+P#CkCCQs-s7aj1[kax<(°x.tIZE', False, PrimitiveBasic: -78, 970.4302138249627, '}tsYPSsF<hQDHyvB`:bz|FT|;§e~`dcN u 6T!>:!Yt\\:'\"7(Wu$ZuJS', False, PrimitiveBasic: -68, None, 'Q>8°/D|^,;:XE=QoE)4wym^e>\"x;5j{xOq<^g3.g.J8-'f0D:|S4[Vpz#A\\]^ZX:2C\\Q'', True, PrimitiveBasic: 888, None, ':\\+\\\\°UdT;w!QkT7[PNFh8>*4,>nh8I.8^)JxJKFD.3Oi>W<§[^$:yA\"_u-e&=[4d5mS[CU4', False, PrimitiveBasic: 625, None, '6QUPC/H{FpH79+Gfl~lm8nES2h|uvK;OX{JT,Ej!TN.>6*1]t=3rrm´qJHEx0{\"', True, PrimitiveBasic: -10, 76.12810804032976, ']+2|UZ:Qtq+rd<lJJR', False, PrimitiveBasic: 370, 91.66547677239988, '+}dr|N0/§Xq!XE<c^[{zETP´fnmvVi2s.mIdAAIaJ1BC\\Mq:cZ#Xpl1A20oRy&^_`Ll7rD5°´Q´;f/LVOhx#{Xo3:&OG0&}<7', False, PrimitiveBasic: -363, None, '>}CPrI.HC[sH\"1&EvDo(CV6hZ#qY>cqP4bzOdeD2i:rsO*59gCHeTU-d4cVOu|+gf'^/wF23FmhJ(j.~X!eEU*ng0Bw§)`x&bC', False, PrimitiveBasic: -311, -542.4028626145157, 'v$W+/Vg/}de1´h[ybm]A´RoMq/JDmH*p2SsGs7,G^KJt\\z1+BGysg;N'8', True, PrimitiveBasic: -721, 367.38921259533595, 'ED5&\\´M2`ELJ9OP WT*2J8JG+>rEqZ|ZU>', True, PrimitiveBasic: -521, 311.8750856661083, ' ,~2Xse~{|,;G_m a2 kPU', True, PrimitiveBasic: 133, 634.1830236699726, '`$J!<Te06[L|kLqhqjtZ9*`a]J:n7´'Tx.q7v', True, PrimitiveBasic: 565, None, 'Mzm3Sf_8tX2e=Q`M:´t`:LPq,$+YiLN>K4[§E:#4o}\"0+:Vkt5´4§/-;lYga]a´zg+Ycyn°mU', False, PrimitiveBasic: -776, 472.1134295427929, '-y '(+de.[{J°AroHcE*_xy#PYQd`v:[1$(2°(~Yd9mL+WrP<xx&>.E.yz+,ud<h^F1§jSyiI+Op.´}sT;&´g!5Ig', False, PrimitiveBasic: -576, None, 'b7ZZz1^ _ z6P>+^#OQ`}9qLb0jeuScJ§+qBD*RP\\-b&5+/y°Zzk\"0#OqxkW>u{mSvh>`{xQ =°Lb&G2k8}wz0l[', True, PrimitiveBasic: 386, 124.4519973426641, '.,(#upWQ|SKNLqJ(L1r\\2]o)AdG4_BCWv`°{yWVJ}Z&+°b;l1mwh(kgv°N4)BxxF9vYhT|H`.MheG`VM'qC'+L>tJv:+N', True, PrimitiveBasic: -471, -329.9258654816699, '°IkVK)|=Ax^ 0d.0h´>y3L^'_L0<cjV^&>+Uv[PYo>p', True]\n",
      "0.00016546249389648438\n",
      "[PrimitiveBasic: -52, -346.2312535356018, '´{[(AhUFLWJ74pn &M\";U\"QHTlzF}qy'z4|Ih-.'^ ohnUFI{0N8N1UYCfsEQ>O7R:h7L4D]ZbP8QR+r')2n3xAN5§', False]\n"
     ]
    }
   ],
   "source": [
    "cache = PyODBCache()\n",
    "cache.pyodb.persistent = True\n",
    "cache.add_cache(\"test\", lambda x: [PrimitiveBasic() for _ in range(x)], PrimitiveBasic, 2)\n",
    "print(cache.get_data(\"test\", 100))\n",
    "\n",
    "start = time()\n",
    "print(cache[\"test\"])\n",
    "print(time() - start)\n",
    "\n",
    "sleep(2)\n",
    "print(cache.get_data(\"test\", 1))\n",
    "del cache"
   ]
  },
  {
   "attachments": {},
   "cell_type": "markdown",
   "metadata": {},
   "source": [
    "## PyODB Examples"
   ]
  },
  {
   "cell_type": "code",
   "execution_count": 6,
   "metadata": {},
   "outputs": [
    {
     "name": "stdout",
     "output_type": "stream",
     "text": [
      "[MyType Number: 3, MyType Number: 4, MyType Number: 5]\n",
      "[MyType Number: 3, MyType Number: 4, MyType Number: 5]\n",
      "Deleted 3 entries\n",
      "2 entries remaining\n",
      "[<class '__main__.MyType'>]\n",
      "[]\n"
     ]
    }
   ],
   "source": [
    "class MyType:\n",
    "    some_data: list[str]\n",
    "    some_number: int | None\n",
    "\n",
    "    def __init__(self, number: int):\n",
    "        self.some_data = [\"Hello\", \"World\"]\n",
    "        self.some_number = number\n",
    "    \n",
    "    def __repr__(self) -> str:\n",
    "        return f\"MyType: {self.some_number}\"\n",
    "\n",
    "# Create PyODB instance\n",
    "pyodb = PyODB()\n",
    "\n",
    "# Add type and save some instances\n",
    "pyodb.add_type(MyType)\n",
    "pyodb.save(MyType(1))\n",
    "pyodb.save_multiple([MyType(2), MyType(3), MyType(4), MyType(5)])\n",
    "\n",
    "# Need data elsewhere\n",
    "select = pyodb.select(MyType)\n",
    "## only get instances where some_number > 2\n",
    "select.gt(some_number = 2)\n",
    "## Res now contains the members\n",
    "res = select.all()\n",
    "print(res)\n",
    "\n",
    "# The select can also be done in a one-liner\n",
    "res = pyodb.select(MyType).gt(some_number = 2).all()\n",
    "print(res)\n",
    "\n",
    "# Delete the saved entries\n",
    "deleted = pyodb.delete(MyType).gt(some_number = 2).commit()\n",
    "print(f\"Deleted {deleted} entries\")\n",
    "\n",
    "# Count remaining entries\n",
    "count = pyodb.select(MyType).count()\n",
    "print(f\"{count} entries remaining\")\n",
    "\n",
    "# Clear the database keeping the table definitions\n",
    "pyodb.clear()\n",
    "\n",
    "# Show and then remove the type definition\n",
    "print(pyodb.known_types)\n",
    "pyodb.remove_type(MyType)\n",
    "print(pyodb.known_types)\n"
   ]
  }
 ],
 "metadata": {
  "kernelspec": {
   "display_name": "pyodb",
   "language": "python",
   "name": "python3"
  },
  "language_info": {
   "codemirror_mode": {
    "name": "ipython",
    "version": 3
   },
   "file_extension": ".py",
   "mimetype": "text/x-python",
   "name": "python",
   "nbconvert_exporter": "python",
   "pygments_lexer": "ipython3",
   "version": "3.10.9"
  },
  "orig_nbformat": 4,
  "vscode": {
   "interpreter": {
    "hash": "d9a58e08c92b235b2d23b34b70556fa5089934888fdddd259328d7ff64bd1b4a"
   }
  }
 },
 "nbformat": 4,
 "nbformat_minor": 2
}
