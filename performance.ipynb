{
 "cells": [
  {
   "cell_type": "markdown",
   "metadata": {},
   "source": [
    "# PyODB Performance Tests\n"
   ]
  },
  {
   "cell_type": "code",
   "execution_count": 1,
   "metadata": {},
   "outputs": [],
   "source": [
    "import cProfile\n",
    "from datetime import datetime\n",
    "from pathlib import Path\n",
    "from tqdm import tqdm\n",
    "from time import sleep, time\n",
    "\n",
    "from src.pyodb.pyodb import PyODB, PyODBCache\n",
    "from test.test_models.complex_models import ComplexBasic, ComplexContainer, ComplexMulti\n",
    "from test.test_models.primitive_models import PrimitiveBasic, PrimitiveContainer"
   ]
  },
  {
   "cell_type": "code",
   "execution_count": null,
   "metadata": {},
   "outputs": [],
   "source": [
    "def test_insert_performance():\n",
    "    pyodb = PyODB(2)\n",
    "    pyodb.add_type(ComplexBasic)\n",
    "    pyodb.save(ComplexContainer())\n",
    "    pyodb.add_type(ComplexMulti)\n",
    "\n",
    "    for _ in tqdm(range(10)):\n",
    "        pyodb.save_multiple([ComplexBasic() for _ in range(100)])\n",
    "        pyodb.save_multiple([ComplexContainer() for _ in range(10)])\n",
    "        pyodb.save_multiple([ComplexMulti() for _ in range(100)])\n",
    "\n",
    "        pyodb.delete(ComplexBasic).gt(random_number = 0).commit()\n",
    "        pyodb.remove_type(ComplexContainer)\n",
    "        pyodb.add_type(ComplexContainer)\n",
    "    del pyodb\n",
    "\n",
    "\n",
    "base_path = Path(\".profile/\")\n",
    "base_path.mkdir(755, exist_ok=True)\n",
    "\n",
    "filepath = base_path / f\"profile_insert_{datetime.now().strftime('%y.%m.%d-%H.%M.%S')}.prof\"\n",
    "cProfile.run(\"test_insert_performance()\", filepath.as_posix())"
   ]
  },
  {
   "cell_type": "code",
   "execution_count": null,
   "metadata": {},
   "outputs": [],
   "source": [
    "def insert_base_data():\n",
    "    pyodb = PyODB(persistent=True)\n",
    "    pyodb.add_type(ComplexBasic)\n",
    "    pyodb.add_type(ComplexContainer)\n",
    "    pyodb.add_type(ComplexMulti)\n",
    "\n",
    "    for _ in tqdm(range(10), desc=\"Inserting base data\"):\n",
    "        pyodb.save_multiple([ComplexBasic() for _ in range(100)])\n",
    "        pyodb.save_multiple([ComplexContainer() for _ in range(10)])\n",
    "        pyodb.save_multiple([ComplexMulti() for _ in range(100)])\n",
    "\n",
    "\n",
    "def test_select_performance():\n",
    "    pyodb = PyODB()\n",
    "    for _ in tqdm(range(100), desc=\"Testing PrimitiveBasic\"):\n",
    "        pyodb.select(PrimitiveBasic).all()\n",
    "    for _ in tqdm(range(100), desc=\"Testing PrimitiveContainer\"):\n",
    "        pyodb.select(PrimitiveContainer).all()\n",
    "    for _ in tqdm(range(100), desc=\"Testing ComplexBasic\"):\n",
    "        pyodb.select(ComplexBasic).all()\n",
    "    for _ in tqdm(range(100), desc=\"Testing ComplexContainer\"):\n",
    "        pyodb.select(ComplexContainer).all()\n",
    "\n",
    "\n",
    "base_path = Path(\".profile/\")\n",
    "base_path.mkdir(755, exist_ok=True)\n",
    "\n",
    "filepath = base_path / f\"profile_select_{datetime.now().strftime('%y.%m.%d-%H.%M.%S')}.prof\"\n",
    "insert_base_data()\n",
    "cProfile.run(\"test_select_performance()\", filepath.as_posix())"
   ]
  },
  {
   "cell_type": "code",
   "execution_count": 2,
   "metadata": {},
   "outputs": [
    {
     "name": "stdout",
     "output_type": "stream",
     "text": [
      "[PrimitiveBasic: 394, -116.02881257641839, '{zMeC#Y2P\" *u8Y=oRm=k8Xrd0lTxwa3RQcgjqF#r)eG$lq.]'McK}w{3+rqF1', False, PrimitiveBasic: -989, None, '#x(d°5kTL !&5yp3!#'CQiQ5o0JHP)w\"qkv_rhq~°PL^p,KV1(a6$XOG7#M>kFcP8a#BtX)D§&0`)_~o&+b1&;,Tf7cR`<kD/R', False, PrimitiveBasic: -839, -146.08947603938293, '°tyuZ{!Hey$E5>q´IM^oanM}L& u~wt<]'&6kXU{Ar{}YMyY´H3ISE0zc3:Oc}-E*´tK,vd', True, PrimitiveBasic: -347, 205.3658764479098, '+[S1O>D~*_K23aAA~=v;;´EOf^xn#=~UeclcQn`T7q=QCL-:(/\\<,{´R52.eSW&}RKS', False, PrimitiveBasic: -18, None, 'b3W(:#;TLNQf!I4kH77115QhB)Ef Gb#i;0\\N2Uni6*= `wERfIz8j8RMKeK7M;v}°hSLlgS=M!<E{4Kqi,&bO+QIxzz5x#°Fp', True, PrimitiveBasic: -569, -614.7838639367342, 'rfe_5x+XO/c\\EaD\"+jR>j! m.zY61j&FSPg]<4$d´aEfN0{:H071NS5G^A(\\'^ SpHG:=^O6[\\7jmkn(HG§k)X0QVYrf3-S', True, PrimitiveBasic: -44, 995.4384213965186, ']qu{2d]F^< BxD-l8&Zkd3bV5:)*°UCT[[p^TYQhM', True, PrimitiveBasic: 126, None, '$)&BBAZvL´Zv=FoG^5jn/SqBNhvb:Zh|u\">.H#YV{nV=-6v_{'oF', True, PrimitiveBasic: -733, -918.5993889587107, '|0`9wLlJkH&\\6wg(aH&§]4°{;m759gupch<}9_G71;H gWa', False, PrimitiveBasic: -620, 441.7452349551303, 'Fs\"SOus)I5RGm{J;6Qm1X=_v,#8LR4H!saI4d]t,M$n!eY R)h!p~rB^zF qvzz', True, PrimitiveBasic: 844, -929.9818929770121, ']Po_5`njq]0 Z\"2\\n{#=eW5#Ug4N´J`XYcCz§V|ssRY´6]Esg~bIkcD#DdE>iDjtbvvV+/>´fd-O+k', True, PrimitiveBasic: -850, 235.07785638565525, '*){\\', False, PrimitiveBasic: -66, 260.0050276331656, '}Ql>_O/+t\\Mu', True, PrimitiveBasic: -721, 856.5336279659424, 'H°#!w', False, PrimitiveBasic: -146, 47.058404184752824, 'lCfkWj$~>K\"lE2$0EYFb)vUekCZ !;A\\eao0AYktNrRTcxZ]ebk`Nh19', False, PrimitiveBasic: 233, -905.5079132100896, 'og\"G§K2Vf0I1({}.BqF2j=\\1V9#qUxg°cL>Q.C°::F,G#3g63>U;fQpO6wCN|!:64n', True, PrimitiveBasic: -86, -79.24371209121395, 'DV=uqLoOD\\g]m´5^>+d\\~Z]zSVy$6>o>:`Ww[l´![FvjYsYa;{V6', False, PrimitiveBasic: -784, None, 'Inz)n60fz/^=4GvEvJ'´\"b>0lpdx5\\UzD$y!xRiA,N{PkY^6C=RP+u*', False, PrimitiveBasic: 219, -628.2310292848241, 'W =5{`bZmMBj`5*+hs^2)WPc(,:c C', False, PrimitiveBasic: 705, None, ':=´=``1OA\"11 +:0(uyS3G', True, PrimitiveBasic: -654, -26.791084886717442, '.fW*sRTjb.eC|\"_i'KXEDF)\\B.)e;'`2^wkFRONnj$[10]7y*wfy+GI§gUN,W7kcg'AJt:1#Yl\"L4o:', False, PrimitiveBasic: 592, None, ']u[PM:aJ:M.\"R;NQq3IYwIwh!pr]f1->mJ2&E', False, PrimitiveBasic: -886, -39.955403089013465, 'LeZvm13fiE3OxUh§0/8n`´c!', True, PrimitiveBasic: -710, -834.329629994347, 'sXQt$', False, PrimitiveBasic: 449, None, '7Fib> GQM4j,CEbb{RbzeBPT2'WJq\\I(§}J6>eZqyM°+AXCu{$o*`f:Rz7KC|{JrSc4kn~# ', False, PrimitiveBasic: 844, -918.4372348065613, '<1bA!Np=Tk_gT!1+LY#oG5°U[M{§A!3al3KeF§qz3a\"KZO qORp#_Gx[QN[V)Lk§\"5rsR f^}e\\A$V ]´w', True, PrimitiveBasic: 50, 823.31091481016, 'Dg/´N\\yR', True, PrimitiveBasic: 637, 312.27019135357705, 'u329hv'z g~HABmNEDZINOe{sBq>&HQ{}}].bU,=\\9:2HCQfs&oo|NtV2T\\on,_B&jKHX'>XlOyH.vimva-|p(;x4WCmEHI\"', False, PrimitiveBasic: 628, None, 'A&,DJ<a'u_:)f,\"L[Mw'Dd,uqH|UI,&jo,>gu<DuWE1oEM FwH;]lHXIdgv_DZ|rD._F°*,4{3Q5mZ(8LYM', True, PrimitiveBasic: 554, -372.2366326580202, 'hQv)>v4'KKXvD\"gh {:/F>B30OTc3a).Lc{'9Vp]m^FoJ)}>X4CuEq=XDY(-+rcKp21FR:e{', False, PrimitiveBasic: 316, 195.62571778592775, 'c0S8g4n§vqVeusJe)OQ[l&n7=m.§7o:fGb6~6H:Bkc,~INxk|Uk$2AeF]HU°jVs#cuW\\!Yyb>5#( k&&('eA´UR5TA(°q}eB0', True, PrimitiveBasic: 968, 280.8967041620265, 'Pt]6qV&d!Z3j~)bpCxyYnE=f§u_ `mVgps}zO1´EUsI!b-PJJB1-kL{+m+OAy~30_;r`m48Q_4mk[wHIpc', True, PrimitiveBasic: 241, None, ',o(aOz /°^np.N&l(e5´cnJ', True, PrimitiveBasic: -868, None, '$m,)\\pC^$/.9h6.Cr}\"jE<R{eXHinJX2Sn4qHfV*B[CIpcn,Z3lQp[N'&\\p,roW>R8U cs!}4#zLk9(-CIqOSO', False, PrimitiveBasic: 540, None, '05>Y}F-NMOP~CsS1GT§´wQ~m8k'~WT|85*/qwvBU`14CB>Tl_)=$q^=vDhj!1^;$fGCv', False, PrimitiveBasic: -874, 753.2579430999841, 'TWNZ&CwQVW]h$IpLC,-Pe|-Tx V|x\\6z9B\\woYu>fH8C7=gJ:z7\\Is´{s>*\"; h}A', True, PrimitiveBasic: 483, -853.3781563102498, '|)[´'LOKLaVrubI#lnnUS'msY°GWq|Mv\\RWGIk/`s*#qKd´}B9UAu_w*3JZ{q^`°rgLg§KvU34|Q)bN]hN{°z4w', False, PrimitiveBasic: -353, -678.3092689052459, '^^ uy\"hB;vU^k>#1#R'7Wc[V2§IHk]kWQ´°4', True, PrimitiveBasic: 593, -892.6546304217791, 'M'zJX>|jfs\\TC\"MKU3#695Y§='q´ AS`x01ZdwoBp6LCS8qnh`tS'aDMR_&N^)Ec\\Jlv|s:&.<A/X', False, PrimitiveBasic: -3, None, 'lSCRPp6wE*;XJ\\,8Ha7^ff=!ss3V=aS§5HP &M9ARO&ixn#/_>n+#\\DiGoE.qw[~L*PKP~e31P(CEsTX,S!§0|/gI', True, PrimitiveBasic: -397, None, 'w[[3Lg.*O´>_3Z5E;=6/v:5'3$^>zGf!Se>V{)Ll-'6!D1/gYHsB6USn9y{4|}=kanRVCs°sSd.19', True, PrimitiveBasic: -31, -175.4054820435136, 'jxsgnW+T]MM`u1}D&R1cn{7', False, PrimitiveBasic: 214, -152.22824759163433, ')#00v3d}E{N];&Pu'8IhBlXZnyDQ.c>q.\\UZsn4D|s/)H]8oX,vaR=6VGOj§cSZ^kZK9&3S2´}I1r', True, PrimitiveBasic: -44, -550.0920211452103, '|e§w$zx;wgx-}18!)4MW!{D>;', False, PrimitiveBasic: 650, 644.6921928905813, '>^O,;|^qBLpT'9>'JY,!X!W*xp'\"§fUQ_j§w{', False, PrimitiveBasic: -256, None, 'pG>sC,>AvdnSE7yy$5D7qdTOy)_>´YV<6.liM0p3lz>7GXs:ffu4x!,Xuk(p#ky/b)U\\w^', False, PrimitiveBasic: -111, None, '`O.Q`MKExNhF,HB$pnM[i2yF;+\"DhIc.', True, PrimitiveBasic: -552, 524.9590183736664, '[/Nl7ehFR|EV6=QJQ}mWZDw+*p4TfW#'*xm4OpzQzS_§ne8Z\\´§yz**0´^FKFj~K9$&C<T4/M', True, PrimitiveBasic: -502, -30.45316781840568, 'r6xaJK:/Ux;*Fm56i\\IT-)R'AJvM\\,oC}]S[shCNLeQ6mSl&/[x(\"<egb.$H5>QDltc0k(-) v[pRL#YmDRN\"!:9k;n/+LFa§', False, PrimitiveBasic: 100, None, '´n<V\"!g<,o' qBxEBhq6D(T+Llu)O;CP* 956)ofONlsUtdj)!v(NR§p$\\Dui0YGt.\\K>B,wh9uN1bHpc+/)Dz(jWP8Lge°§Ms9', False, PrimitiveBasic: -948, 184.80070570224783, 'W\"Ndql8bX1DPfIZ8+/yS{p[H.° SGxU98`', True, PrimitiveBasic: 370, None, 'nu\"[Yt`'ZM', False, PrimitiveBasic: 798, None, '\\(ZqfCs=3^WLvw$R04LQBECMjdm:K]2IeBhkTOG]SC\\K7}Rwgv`$°:QD8tqtE\"sU=:cV}c^h{(ffVBY}FYMw^xn', False, PrimitiveBasic: -777, -983.8584435123922, 'cvO*r0Kh aG~~A2f6agFM\\3r~,[WvZ{17pK-A`$g#Bi~VXLTKhwgO:|`G&+_/9G7^BiT a~°(SE2)>+oCFT-!/W{', True, PrimitiveBasic: -79, 652.3884986259925, '^w=$zC8H{jshH,Rnrd}tKWXMKz/WQ=CBpR54Y;y9'eimwpc3D{IGsI75s(Vl8['K~J', False, PrimitiveBasic: -603, 295.3217103010846, '|K6C*[Ae{GSCZ'Mh_SkvFJm§x0<ap_<EM9fNQ6P\\e>|x_&&C7,#IQJr0v!ISi4#o´P9´(lF>L^\"4sy', True, PrimitiveBasic: -437, None, 'PSe&i{XHqlm0][n`3]Alo+3`´a+XZSnnLQQc,.ZU5´rajH)5ls§h>b/G*Ha°'§7}cJQ^LP1fy~f*)$[Od6cD{|`wi', True, PrimitiveBasic: 558, 571.2084745784387, '8/x}§a}l(}XL}]dS°]:Eq07<M}(Vhr', False, PrimitiveBasic: 614, -533.4660272656753, '|f[86X0§QY1XNIsyc+°Risr+OE8iVed33}er;Q\\Y,\"Ii', True, PrimitiveBasic: 135, -689.0005784160201, '`)7r0', False, PrimitiveBasic: 867, None, 'a)8DSpUci9nzjM8h09E=hbsC'nv<{>SKqKu)9{|OBjc9$3zbuNTVd', True, PrimitiveBasic: 68, None, 'W;A´ii\"I~]a6lz+', True, PrimitiveBasic: -205, 277.58724631849276, '§v\"W6]A&N(l)ph!G6`G1LMM/c,a>m$ykBK´{Bd<TbR+}J§yx$', False, PrimitiveBasic: -963, -240.088104078118, 'J_H', True, PrimitiveBasic: 783, -827.9960480577378, ',l6iD´3zQ1[3DG', False, PrimitiveBasic: -98, 6.387454708365103, 'zsIJ_w i2>doI aw2avs`[3T;/6JlB]´jcx)NgLAtIT;5Jujr j}{>WTj}`°*:$j2$0y;$+}{cb', False, PrimitiveBasic: -904, None, '§RAvjGfgAAHB_cW-e18)TP\"WDziMpT5t3AHQy§rp6BtEip^Lk)K`VKW^MX ZCTB[cJS*zYoLu§3Rj´s#I!(SP]jK´', True, PrimitiveBasic: -323, 392.8927824038124, 'm}A5ze\\.lx\\.´0\\UCbN^Cq+>V[uxD°x \"3[iAU8;qL8Un`J#cMbNE+A_E3f9FH[*b', True, PrimitiveBasic: 185, None, ''A#!C', False, PrimitiveBasic: -57, -123.12822616794006, ')9Tbf9>qxkN*vEMFb(znJ~o\\D2ULy.IXPqv{II\\-FIfjn00pM°./G§[/_T1`>'q[&d9B7~sJS>*n#;)(sqaL-`I':bZGwPAW~[4', True, PrimitiveBasic: -933, -740.22660410031, 'u*3hI°=MLe+<V-,=ZN-+:yz/K1*§89E|M9.}>k<0nqy2(\"u UxQQAj_R]PY\"q_0E3`qU*j.<*´*SUU:HxLuxlY[YLbJtQ40Yf~', False, PrimitiveBasic: -441, 935.0888763534795, ']Uapcs=mj:46H9\\[tvoiQkIM/eJ'm~HlD{5 ', True, PrimitiveBasic: -664, -135.68147507525396, 'e}fs{5K;+d(#9lP`|;A764S', False, PrimitiveBasic: -200, 725.6610396896466, 'WoH];Uk$*V!ud={gDAs}B5^#GJ°jY~/c:a&mj{d§Afl4J[WC´ObNE|h`<w', False, PrimitiveBasic: 937, -313.5032406447655, 'fLO{~Aef ZMI)z', True, PrimitiveBasic: 427, None, '_m'A0'', False, PrimitiveBasic: -917, -4.005241569365214, 'uKA$Jpk2R/&1', False, PrimitiveBasic: -435, None, '25', True, PrimitiveBasic: 904, 356.1553670073896, '!n7e', True, PrimitiveBasic: -921, -803.7575294337267, 'Neh[+_ob[J8$9vEWh(R1)>}K7qRxLI6sjk$wcdvEk\"G`A:KdV\"E';U5[F`-Nb', False, PrimitiveBasic: 366, 665.5626442684768, 'EcF1V2R\\_+b\\.$dz:S5~´^;O|yc§)\\´eA§W[I+c´N|f3', False, PrimitiveBasic: 162, None, 'L|=gbfqhFf>#^&j#f1G<Er,`yq/EdD9Pb', True, PrimitiveBasic: -404, None, '9MHvfwP7D1-r5]qQt_#( )Ia`1:`g/y'BE8Kssqi2=.aj0X3d_wbQ#^urw'agUKPwP3\"\"§^P+r+VSYL(Ya', True, PrimitiveBasic: -88, None, 'M6\"&h~6}8r.4C,sdA\"FRf-ff\\9', True, PrimitiveBasic: -755, 32.8260639260185, 'nBd8R/S' l f*oClg)!Wq/B+Up', False, PrimitiveBasic: -937, None, '(jY$CocPClU', True, PrimitiveBasic: 216, -412.3052240075942, '!,kda*i,&Yc=(\"n`rz41!°&>0JzNq4U-}´X\"X<\\-UFMKyX oo{D6m^`$)B8JQ^LnITNK[tA~D>', True, PrimitiveBasic: 591, None, 'ttavM! hutA~f4cb-', False, PrimitiveBasic: -42, None, '_g]M6Q<]', True, PrimitiveBasic: 422, 456.76911230316784, 'nJmz7RuyPzr QXU', True, PrimitiveBasic: 312, 13.314138734175751, ',/Drzx{7z,oVdr\"LoE\"#v$Ec**(<.pcxm.rOgMb)Q;!rO!\\cRkqbQ(', False, PrimitiveBasic: -54, None, 'enGqe6Q^Q7\\.|NmPrwLGN|Vqt8.h(DWt\\E+bvAe/*C{#)JR JU!kg|]MfI<m/V}_YFAj(y', False, PrimitiveBasic: 388, 314.3995370747239, 'yNjmHGSl', True, PrimitiveBasic: -612, -458.4402155183749, 'viLKI&j7x<r::M6*L=DB~$|:P{l:Fhd!N-DYQPhNnx>Lj2#^V9k($8fsx4Sy#N#S}kG&l2`;QdbI5´ym', False, PrimitiveBasic: 769, -877.3095764707557, 'FrN§$o7V}!NxCLnu_ _3W08RqbT-tx*>r1´BV]gOx(JI°'ZGw\"^Z'dTuNu;k-9WpjeLZ°$ng\"e', True, PrimitiveBasic: -682, None, 'QM_2VCLI\"wORA2_7= I.0+z:. \"$B°)G{l3$bSKACI°-DnYElWaV§FcRzy4/VF!5nEa`j_UmGQ]-QZAW§/Jkr', False, PrimitiveBasic: 191, -14.190511297475172, 'Qq>>n-]5bL$jj  *Ee'/f89*FNyvpwi&R_WtK6z}&:8y};9PLD]}o^ALdwBmp&^j  c]c<[\\yfq[[> /T5>§[;:+Cq', True, PrimitiveBasic: 301, -960.4646056782897, '^d´xXPRP6)gsZ/\"Vi;7p/D7+<rRiAJnu*v4\\1'izR[2(5Z(D_ICDHUf&cIs\"N0hx6_nLyw4;5ypWJ4+auf-KX>67=bZr:jsxN6.e', False, PrimitiveBasic: 192, None, '!}]', False, PrimitiveBasic: -242, 295.60535986180116, ';,I_A\"+°7SoqN0mzHA]|sBTgWHx_BI^VeIygC{|B´°!U {FQJUh!>K.TqNpGD', True]\n",
      "[PrimitiveBasic: 394, -116.02881257641839, '{zMeC#Y2P\" *u8Y=oRm=k8Xrd0lTxwa3RQcgjqF#r)eG$lq.]'McK}w{3+rqF1', False, PrimitiveBasic: -989, None, '#x(d°5kTL !&5yp3!#'CQiQ5o0JHP)w\"qkv_rhq~°PL^p,KV1(a6$XOG7#M>kFcP8a#BtX)D§&0`)_~o&+b1&;,Tf7cR`<kD/R', False, PrimitiveBasic: -839, -146.08947603938293, '°tyuZ{!Hey$E5>q´IM^oanM}L& u~wt<]'&6kXU{Ar{}YMyY´H3ISE0zc3:Oc}-E*´tK,vd', True, PrimitiveBasic: -347, 205.3658764479098, '+[S1O>D~*_K23aAA~=v;;´EOf^xn#=~UeclcQn`T7q=QCL-:(/\\<,{´R52.eSW&}RKS', False, PrimitiveBasic: -18, None, 'b3W(:#;TLNQf!I4kH77115QhB)Ef Gb#i;0\\N2Uni6*= `wERfIz8j8RMKeK7M;v}°hSLlgS=M!<E{4Kqi,&bO+QIxzz5x#°Fp', True, PrimitiveBasic: -569, -614.7838639367342, 'rfe_5x+XO/c\\EaD\"+jR>j! m.zY61j&FSPg]<4$d´aEfN0{:H071NS5G^A(\\'^ SpHG:=^O6[\\7jmkn(HG§k)X0QVYrf3-S', True, PrimitiveBasic: -44, 995.4384213965186, ']qu{2d]F^< BxD-l8&Zkd3bV5:)*°UCT[[p^TYQhM', True, PrimitiveBasic: 126, None, '$)&BBAZvL´Zv=FoG^5jn/SqBNhvb:Zh|u\">.H#YV{nV=-6v_{'oF', True, PrimitiveBasic: -733, -918.5993889587107, '|0`9wLlJkH&\\6wg(aH&§]4°{;m759gupch<}9_G71;H gWa', False, PrimitiveBasic: -620, 441.7452349551303, 'Fs\"SOus)I5RGm{J;6Qm1X=_v,#8LR4H!saI4d]t,M$n!eY R)h!p~rB^zF qvzz', True, PrimitiveBasic: 844, -929.9818929770121, ']Po_5`njq]0 Z\"2\\n{#=eW5#Ug4N´J`XYcCz§V|ssRY´6]Esg~bIkcD#DdE>iDjtbvvV+/>´fd-O+k', True, PrimitiveBasic: -850, 235.07785638565525, '*){\\', False, PrimitiveBasic: -66, 260.0050276331656, '}Ql>_O/+t\\Mu', True, PrimitiveBasic: -721, 856.5336279659424, 'H°#!w', False, PrimitiveBasic: -146, 47.058404184752824, 'lCfkWj$~>K\"lE2$0EYFb)vUekCZ !;A\\eao0AYktNrRTcxZ]ebk`Nh19', False, PrimitiveBasic: 233, -905.5079132100896, 'og\"G§K2Vf0I1({}.BqF2j=\\1V9#qUxg°cL>Q.C°::F,G#3g63>U;fQpO6wCN|!:64n', True, PrimitiveBasic: -86, -79.24371209121395, 'DV=uqLoOD\\g]m´5^>+d\\~Z]zSVy$6>o>:`Ww[l´![FvjYsYa;{V6', False, PrimitiveBasic: -784, None, 'Inz)n60fz/^=4GvEvJ'´\"b>0lpdx5\\UzD$y!xRiA,N{PkY^6C=RP+u*', False, PrimitiveBasic: 219, -628.2310292848241, 'W =5{`bZmMBj`5*+hs^2)WPc(,:c C', False, PrimitiveBasic: 705, None, ':=´=``1OA\"11 +:0(uyS3G', True, PrimitiveBasic: -654, -26.791084886717442, '.fW*sRTjb.eC|\"_i'KXEDF)\\B.)e;'`2^wkFRONnj$[10]7y*wfy+GI§gUN,W7kcg'AJt:1#Yl\"L4o:', False, PrimitiveBasic: 592, None, ']u[PM:aJ:M.\"R;NQq3IYwIwh!pr]f1->mJ2&E', False, PrimitiveBasic: -886, -39.955403089013465, 'LeZvm13fiE3OxUh§0/8n`´c!', True, PrimitiveBasic: -710, -834.329629994347, 'sXQt$', False, PrimitiveBasic: 449, None, '7Fib> GQM4j,CEbb{RbzeBPT2'WJq\\I(§}J6>eZqyM°+AXCu{$o*`f:Rz7KC|{JrSc4kn~# ', False, PrimitiveBasic: 844, -918.4372348065613, '<1bA!Np=Tk_gT!1+LY#oG5°U[M{§A!3al3KeF§qz3a\"KZO qORp#_Gx[QN[V)Lk§\"5rsR f^}e\\A$V ]´w', True, PrimitiveBasic: 50, 823.31091481016, 'Dg/´N\\yR', True, PrimitiveBasic: 637, 312.27019135357705, 'u329hv'z g~HABmNEDZINOe{sBq>&HQ{}}].bU,=\\9:2HCQfs&oo|NtV2T\\on,_B&jKHX'>XlOyH.vimva-|p(;x4WCmEHI\"', False, PrimitiveBasic: 628, None, 'A&,DJ<a'u_:)f,\"L[Mw'Dd,uqH|UI,&jo,>gu<DuWE1oEM FwH;]lHXIdgv_DZ|rD._F°*,4{3Q5mZ(8LYM', True, PrimitiveBasic: 554, -372.2366326580202, 'hQv)>v4'KKXvD\"gh {:/F>B30OTc3a).Lc{'9Vp]m^FoJ)}>X4CuEq=XDY(-+rcKp21FR:e{', False, PrimitiveBasic: 316, 195.62571778592775, 'c0S8g4n§vqVeusJe)OQ[l&n7=m.§7o:fGb6~6H:Bkc,~INxk|Uk$2AeF]HU°jVs#cuW\\!Yyb>5#( k&&('eA´UR5TA(°q}eB0', True, PrimitiveBasic: 968, 280.8967041620265, 'Pt]6qV&d!Z3j~)bpCxyYnE=f§u_ `mVgps}zO1´EUsI!b-PJJB1-kL{+m+OAy~30_;r`m48Q_4mk[wHIpc', True, PrimitiveBasic: 241, None, ',o(aOz /°^np.N&l(e5´cnJ', True, PrimitiveBasic: -868, None, '$m,)\\pC^$/.9h6.Cr}\"jE<R{eXHinJX2Sn4qHfV*B[CIpcn,Z3lQp[N'&\\p,roW>R8U cs!}4#zLk9(-CIqOSO', False, PrimitiveBasic: 540, None, '05>Y}F-NMOP~CsS1GT§´wQ~m8k'~WT|85*/qwvBU`14CB>Tl_)=$q^=vDhj!1^;$fGCv', False, PrimitiveBasic: -874, 753.2579430999841, 'TWNZ&CwQVW]h$IpLC,-Pe|-Tx V|x\\6z9B\\woYu>fH8C7=gJ:z7\\Is´{s>*\"; h}A', True, PrimitiveBasic: 483, -853.3781563102498, '|)[´'LOKLaVrubI#lnnUS'msY°GWq|Mv\\RWGIk/`s*#qKd´}B9UAu_w*3JZ{q^`°rgLg§KvU34|Q)bN]hN{°z4w', False, PrimitiveBasic: -353, -678.3092689052459, '^^ uy\"hB;vU^k>#1#R'7Wc[V2§IHk]kWQ´°4', True, PrimitiveBasic: 593, -892.6546304217791, 'M'zJX>|jfs\\TC\"MKU3#695Y§='q´ AS`x01ZdwoBp6LCS8qnh`tS'aDMR_&N^)Ec\\Jlv|s:&.<A/X', False, PrimitiveBasic: -3, None, 'lSCRPp6wE*;XJ\\,8Ha7^ff=!ss3V=aS§5HP &M9ARO&ixn#/_>n+#\\DiGoE.qw[~L*PKP~e31P(CEsTX,S!§0|/gI', True, PrimitiveBasic: -397, None, 'w[[3Lg.*O´>_3Z5E;=6/v:5'3$^>zGf!Se>V{)Ll-'6!D1/gYHsB6USn9y{4|}=kanRVCs°sSd.19', True, PrimitiveBasic: -31, -175.4054820435136, 'jxsgnW+T]MM`u1}D&R1cn{7', False, PrimitiveBasic: 214, -152.22824759163433, ')#00v3d}E{N];&Pu'8IhBlXZnyDQ.c>q.\\UZsn4D|s/)H]8oX,vaR=6VGOj§cSZ^kZK9&3S2´}I1r', True, PrimitiveBasic: -44, -550.0920211452103, '|e§w$zx;wgx-}18!)4MW!{D>;', False, PrimitiveBasic: 650, 644.6921928905813, '>^O,;|^qBLpT'9>'JY,!X!W*xp'\"§fUQ_j§w{', False, PrimitiveBasic: -256, None, 'pG>sC,>AvdnSE7yy$5D7qdTOy)_>´YV<6.liM0p3lz>7GXs:ffu4x!,Xuk(p#ky/b)U\\w^', False, PrimitiveBasic: -111, None, '`O.Q`MKExNhF,HB$pnM[i2yF;+\"DhIc.', True, PrimitiveBasic: -552, 524.9590183736664, '[/Nl7ehFR|EV6=QJQ}mWZDw+*p4TfW#'*xm4OpzQzS_§ne8Z\\´§yz**0´^FKFj~K9$&C<T4/M', True, PrimitiveBasic: -502, -30.45316781840568, 'r6xaJK:/Ux;*Fm56i\\IT-)R'AJvM\\,oC}]S[shCNLeQ6mSl&/[x(\"<egb.$H5>QDltc0k(-) v[pRL#YmDRN\"!:9k;n/+LFa§', False, PrimitiveBasic: 100, None, '´n<V\"!g<,o' qBxEBhq6D(T+Llu)O;CP* 956)ofONlsUtdj)!v(NR§p$\\Dui0YGt.\\K>B,wh9uN1bHpc+/)Dz(jWP8Lge°§Ms9', False, PrimitiveBasic: -948, 184.80070570224783, 'W\"Ndql8bX1DPfIZ8+/yS{p[H.° SGxU98`', True, PrimitiveBasic: 370, None, 'nu\"[Yt`'ZM', False, PrimitiveBasic: 798, None, '\\(ZqfCs=3^WLvw$R04LQBECMjdm:K]2IeBhkTOG]SC\\K7}Rwgv`$°:QD8tqtE\"sU=:cV}c^h{(ffVBY}FYMw^xn', False, PrimitiveBasic: -777, -983.8584435123922, 'cvO*r0Kh aG~~A2f6agFM\\3r~,[WvZ{17pK-A`$g#Bi~VXLTKhwgO:|`G&+_/9G7^BiT a~°(SE2)>+oCFT-!/W{', True, PrimitiveBasic: -79, 652.3884986259925, '^w=$zC8H{jshH,Rnrd}tKWXMKz/WQ=CBpR54Y;y9'eimwpc3D{IGsI75s(Vl8['K~J', False, PrimitiveBasic: -603, 295.3217103010846, '|K6C*[Ae{GSCZ'Mh_SkvFJm§x0<ap_<EM9fNQ6P\\e>|x_&&C7,#IQJr0v!ISi4#o´P9´(lF>L^\"4sy', True, PrimitiveBasic: -437, None, 'PSe&i{XHqlm0][n`3]Alo+3`´a+XZSnnLQQc,.ZU5´rajH)5ls§h>b/G*Ha°'§7}cJQ^LP1fy~f*)$[Od6cD{|`wi', True, PrimitiveBasic: 558, 571.2084745784387, '8/x}§a}l(}XL}]dS°]:Eq07<M}(Vhr', False, PrimitiveBasic: 614, -533.4660272656753, '|f[86X0§QY1XNIsyc+°Risr+OE8iVed33}er;Q\\Y,\"Ii', True, PrimitiveBasic: 135, -689.0005784160201, '`)7r0', False, PrimitiveBasic: 867, None, 'a)8DSpUci9nzjM8h09E=hbsC'nv<{>SKqKu)9{|OBjc9$3zbuNTVd', True, PrimitiveBasic: 68, None, 'W;A´ii\"I~]a6lz+', True, PrimitiveBasic: -205, 277.58724631849276, '§v\"W6]A&N(l)ph!G6`G1LMM/c,a>m$ykBK´{Bd<TbR+}J§yx$', False, PrimitiveBasic: -963, -240.088104078118, 'J_H', True, PrimitiveBasic: 783, -827.9960480577378, ',l6iD´3zQ1[3DG', False, PrimitiveBasic: -98, 6.387454708365103, 'zsIJ_w i2>doI aw2avs`[3T;/6JlB]´jcx)NgLAtIT;5Jujr j}{>WTj}`°*:$j2$0y;$+}{cb', False, PrimitiveBasic: -904, None, '§RAvjGfgAAHB_cW-e18)TP\"WDziMpT5t3AHQy§rp6BtEip^Lk)K`VKW^MX ZCTB[cJS*zYoLu§3Rj´s#I!(SP]jK´', True, PrimitiveBasic: -323, 392.8927824038124, 'm}A5ze\\.lx\\.´0\\UCbN^Cq+>V[uxD°x \"3[iAU8;qL8Un`J#cMbNE+A_E3f9FH[*b', True, PrimitiveBasic: 185, None, ''A#!C', False, PrimitiveBasic: -57, -123.12822616794006, ')9Tbf9>qxkN*vEMFb(znJ~o\\D2ULy.IXPqv{II\\-FIfjn00pM°./G§[/_T1`>'q[&d9B7~sJS>*n#;)(sqaL-`I':bZGwPAW~[4', True, PrimitiveBasic: -933, -740.22660410031, 'u*3hI°=MLe+<V-,=ZN-+:yz/K1*§89E|M9.}>k<0nqy2(\"u UxQQAj_R]PY\"q_0E3`qU*j.<*´*SUU:HxLuxlY[YLbJtQ40Yf~', False, PrimitiveBasic: -441, 935.0888763534795, ']Uapcs=mj:46H9\\[tvoiQkIM/eJ'm~HlD{5 ', True, PrimitiveBasic: -664, -135.68147507525396, 'e}fs{5K;+d(#9lP`|;A764S', False, PrimitiveBasic: -200, 725.6610396896466, 'WoH];Uk$*V!ud={gDAs}B5^#GJ°jY~/c:a&mj{d§Afl4J[WC´ObNE|h`<w', False, PrimitiveBasic: 937, -313.5032406447655, 'fLO{~Aef ZMI)z', True, PrimitiveBasic: 427, None, '_m'A0'', False, PrimitiveBasic: -917, -4.005241569365214, 'uKA$Jpk2R/&1', False, PrimitiveBasic: -435, None, '25', True, PrimitiveBasic: 904, 356.1553670073896, '!n7e', True, PrimitiveBasic: -921, -803.7575294337267, 'Neh[+_ob[J8$9vEWh(R1)>}K7qRxLI6sjk$wcdvEk\"G`A:KdV\"E';U5[F`-Nb', False, PrimitiveBasic: 366, 665.5626442684768, 'EcF1V2R\\_+b\\.$dz:S5~´^;O|yc§)\\´eA§W[I+c´N|f3', False, PrimitiveBasic: 162, None, 'L|=gbfqhFf>#^&j#f1G<Er,`yq/EdD9Pb', True, PrimitiveBasic: -404, None, '9MHvfwP7D1-r5]qQt_#( )Ia`1:`g/y'BE8Kssqi2=.aj0X3d_wbQ#^urw'agUKPwP3\"\"§^P+r+VSYL(Ya', True, PrimitiveBasic: -88, None, 'M6\"&h~6}8r.4C,sdA\"FRf-ff\\9', True, PrimitiveBasic: -755, 32.8260639260185, 'nBd8R/S' l f*oClg)!Wq/B+Up', False, PrimitiveBasic: -937, None, '(jY$CocPClU', True, PrimitiveBasic: 216, -412.3052240075942, '!,kda*i,&Yc=(\"n`rz41!°&>0JzNq4U-}´X\"X<\\-UFMKyX oo{D6m^`$)B8JQ^LnITNK[tA~D>', True, PrimitiveBasic: 591, None, 'ttavM! hutA~f4cb-', False, PrimitiveBasic: -42, None, '_g]M6Q<]', True, PrimitiveBasic: 422, 456.76911230316784, 'nJmz7RuyPzr QXU', True, PrimitiveBasic: 312, 13.314138734175751, ',/Drzx{7z,oVdr\"LoE\"#v$Ec**(<.pcxm.rOgMb)Q;!rO!\\cRkqbQ(', False, PrimitiveBasic: -54, None, 'enGqe6Q^Q7\\.|NmPrwLGN|Vqt8.h(DWt\\E+bvAe/*C{#)JR JU!kg|]MfI<m/V}_YFAj(y', False, PrimitiveBasic: 388, 314.3995370747239, 'yNjmHGSl', True, PrimitiveBasic: -612, -458.4402155183749, 'viLKI&j7x<r::M6*L=DB~$|:P{l:Fhd!N-DYQPhNnx>Lj2#^V9k($8fsx4Sy#N#S}kG&l2`;QdbI5´ym', False, PrimitiveBasic: 769, -877.3095764707557, 'FrN§$o7V}!NxCLnu_ _3W08RqbT-tx*>r1´BV]gOx(JI°'ZGw\"^Z'dTuNu;k-9WpjeLZ°$ng\"e', True, PrimitiveBasic: -682, None, 'QM_2VCLI\"wORA2_7= I.0+z:. \"$B°)G{l3$bSKACI°-DnYElWaV§FcRzy4/VF!5nEa`j_UmGQ]-QZAW§/Jkr', False, PrimitiveBasic: 191, -14.190511297475172, 'Qq>>n-]5bL$jj  *Ee'/f89*FNyvpwi&R_WtK6z}&:8y};9PLD]}o^ALdwBmp&^j  c]c<[\\yfq[[> /T5>§[;:+Cq', True, PrimitiveBasic: 301, -960.4646056782897, '^d´xXPRP6)gsZ/\"Vi;7p/D7+<rRiAJnu*v4\\1'izR[2(5Z(D_ICDHUf&cIs\"N0hx6_nLyw4;5ypWJ4+auf-KX>67=bZr:jsxN6.e', False, PrimitiveBasic: 192, None, '!}]', False, PrimitiveBasic: -242, 295.60535986180116, ';,I_A\"+°7SoqN0mzHA]|sBTgWHx_BI^VeIygC{|B´°!U {FQJUh!>K.TqNpGD', True]\n",
      "0.00018858909606933594\n",
      "[PrimitiveBasic: 597, -572.2881754614781, 'X|Y\"qBT.l§6L#6W°HgO'\\aUw]D'xnq,}Hh,i:\"|j 1D~|N -~`g:Tw>Kx|#-y!&vy3Q8PF<Xc&^g:\\8[r6D6.eTG=', True]\n"
     ]
    }
   ],
   "source": [
    "cache = PyODBCache(PyODB(1))\n",
    "cache.add_cache(\"test\", lambda x: [PrimitiveBasic() for _ in range(x)], PrimitiveBasic, 1)\n",
    "print(cache.get_data(\"test\", 100))\n",
    "\n",
    "start = time()\n",
    "print(cache[\"test\"])\n",
    "print(time() - start)\n",
    "\n",
    "sleep(1)\n",
    "print(cache.get_data(\"test\", 1))\n",
    "del cache"
   ]
  },
  {
   "cell_type": "code",
   "execution_count": null,
   "metadata": {},
   "outputs": [],
   "source": []
  }
 ],
 "metadata": {
  "kernelspec": {
   "display_name": "pyodb",
   "language": "python",
   "name": "python3"
  },
  "language_info": {
   "codemirror_mode": {
    "name": "ipython",
    "version": 3
   },
   "file_extension": ".py",
   "mimetype": "text/x-python",
   "name": "python",
   "nbconvert_exporter": "python",
   "pygments_lexer": "ipython3",
   "version": "3.10.9"
  },
  "orig_nbformat": 4,
  "vscode": {
   "interpreter": {
    "hash": "d9a58e08c92b235b2d23b34b70556fa5089934888fdddd259328d7ff64bd1b4a"
   }
  }
 },
 "nbformat": 4,
 "nbformat_minor": 2
}
