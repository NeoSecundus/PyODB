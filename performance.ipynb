{
 "cells": [
  {
   "cell_type": "markdown",
   "metadata": {},
   "source": [
    "# PyODB Performance Tests\n"
   ]
  },
  {
   "cell_type": "code",
   "execution_count": null,
   "metadata": {},
   "outputs": [],
   "source": [
    "import cProfile\n",
    "from datetime import datetime\n",
    "from pathlib import Path\n",
    "from tqdm import tqdm\n",
    "from time import sleep, time\n",
    "import sqlite3 as sql\n",
    "\n",
    "\n",
    "from pyodb import PyODB, PyODBCache\n",
    "from test.test_models.complex_models import ComplexBasic, ComplexContainer, ComplexMulti\n",
    "from test.test_models.primitive_models import PrimitiveBasic, PrimitiveContainer"
   ]
  },
  {
   "cell_type": "code",
   "execution_count": null,
   "metadata": {},
   "outputs": [],
   "source": [
    "def test_insert_performance():\n",
    "    pyodb = PyODB(2)\n",
    "    pyodb.add_type(ComplexBasic)\n",
    "    pyodb.save(ComplexContainer())\n",
    "    pyodb.add_type(ComplexMulti)\n",
    "\n",
    "    for _ in tqdm(range(10)):\n",
    "        pyodb.save_multiple([ComplexBasic() for _ in range(100)])\n",
    "        pyodb.save_multiple([ComplexContainer() for _ in range(10)])\n",
    "        pyodb.save_multiple([ComplexMulti() for _ in range(100)])\n",
    "\n",
    "        pyodb.delete(ComplexBasic).gt(random_number = 0).commit()\n",
    "        pyodb.remove_type(ComplexContainer)\n",
    "        pyodb.add_type(ComplexContainer)\n",
    "    del pyodb\n",
    "\n",
    "\n",
    "base_path = Path(\".profile/\")\n",
    "base_path.mkdir(755, exist_ok=True)\n",
    "\n",
    "filepath = base_path / f\"profile_insert_{datetime.now().strftime('%y.%m.%d-%H.%M.%S')}.prof\"\n",
    "cProfile.run(\"test_insert_performance()\", filepath.as_posix())"
   ]
  },
  {
   "cell_type": "code",
   "execution_count": null,
   "metadata": {},
   "outputs": [],
   "source": [
    "def insert_base_data():\n",
    "    pyodb = PyODB(persistent=True)\n",
    "    pyodb.add_type(ComplexBasic)\n",
    "    pyodb.add_type(ComplexContainer)\n",
    "    pyodb.add_type(ComplexMulti)\n",
    "\n",
    "    for _ in tqdm(range(10), desc=\"Inserting base data\"):\n",
    "        pyodb.save_multiple([ComplexBasic() for _ in range(100)])\n",
    "        pyodb.save_multiple([ComplexContainer() for _ in range(10)])\n",
    "        pyodb.save_multiple([ComplexMulti() for _ in range(100)])\n",
    "\n",
    "\n",
    "def test_select_performance():\n",
    "    pyodb = PyODB()\n",
    "    for _ in tqdm(range(100), desc=\"Testing PrimitiveBasic\"):\n",
    "        pyodb.select(PrimitiveBasic).all()\n",
    "    for _ in tqdm(range(100), desc=\"Testing PrimitiveContainer\"):\n",
    "        pyodb.select(PrimitiveContainer).all()\n",
    "    for _ in tqdm(range(100), desc=\"Testing ComplexBasic\"):\n",
    "        pyodb.select(ComplexBasic).all()\n",
    "    for _ in tqdm(range(100), desc=\"Testing ComplexContainer\"):\n",
    "        pyodb.select(ComplexContainer).all()\n",
    "\n",
    "\n",
    "base_path = Path(\".profile/\")\n",
    "base_path.mkdir(755, exist_ok=True)\n",
    "\n",
    "filepath = base_path / f\"profile_select_{datetime.now().strftime('%y.%m.%d-%H.%M.%S')}.prof\"\n",
    "insert_base_data()\n",
    "cProfile.run(\"test_select_performance()\", filepath.as_posix())"
   ]
  },
  {
   "cell_type": "code",
   "execution_count": null,
   "metadata": {},
   "outputs": [],
   "source": [
    "cache = PyODBCache()\n",
    "cache.pyodb.persistent = True\n",
    "cache.add_cache(\"test\", lambda x: [PrimitiveBasic() for _ in range(x)], PrimitiveBasic, 2)\n",
    "print(cache.get_data(\"test\", 100))\n",
    "\n",
    "start = time()\n",
    "print(cache[\"test\"])\n",
    "print(time() - start)\n",
    "\n",
    "sleep(2)\n",
    "print(cache.get_data(\"test\", 1))\n",
    "del cache"
   ]
  },
  {
   "attachments": {},
   "cell_type": "markdown",
   "metadata": {},
   "source": [
    "## PyODB Examples\n",
    "\n",
    "### Basic Example"
   ]
  },
  {
   "cell_type": "code",
   "execution_count": null,
   "metadata": {},
   "outputs": [],
   "source": [
    "class MyType:\n",
    "    some_data: list[str]\n",
    "    some_number: int | None\n",
    "\n",
    "    def __init__(self, number: int):\n",
    "        self.some_data = [\"Hello\", \"World\"]\n",
    "        self.some_number = number\n",
    "    \n",
    "    def __repr__(self) -> str:\n",
    "        return f\"MyType: {self.some_number}\"\n",
    "\n",
    "# Create PyODB instance\n",
    "pyodb = PyODB()\n",
    "\n",
    "# Add type and save some instances\n",
    "pyodb.add_type(MyType)\n",
    "pyodb.save(MyType(1))\n",
    "pyodb.save_multiple([MyType(2), MyType(3), MyType(4), MyType(5)])\n",
    "\n",
    "# Need data elsewhere\n",
    "select = pyodb.select(MyType)\n",
    "## only get instances where some_number > 2\n",
    "select.gt(some_number = 2)\n",
    "## Res now contains the members\n",
    "res = select.all()\n",
    "print(res)\n",
    "\n",
    "# The select can also be done in a one-liner\n",
    "res = pyodb.select(MyType).gt(some_number = 2).all()\n",
    "print(res)\n",
    "\n",
    "# Delete the saved entries\n",
    "deleted = pyodb.delete(MyType).gt(some_number = 2).commit()\n",
    "print(f\"Deleted {deleted} entries\")\n",
    "\n",
    "# Count remaining entries\n",
    "count = pyodb.select(MyType).count()\n",
    "print(f\"{count} entries remaining\")\n",
    "\n",
    "# Clear the database keeping the table definitions\n",
    "pyodb.clear()\n",
    "\n",
    "# Show and then remove the type definition\n",
    "print(pyodb.known_types)\n",
    "pyodb.remove_type(MyType)\n",
    "print(pyodb.known_types)\n"
   ]
  },
  {
   "attachments": {},
   "cell_type": "markdown",
   "metadata": {},
   "source": [
    "### DBConn Performance Test"
   ]
  },
  {
   "cell_type": "code",
   "execution_count": null,
   "metadata": {},
   "outputs": [],
   "source": [
    "pyodb.add_type(PrimitiveBasic)\n",
    "pyodb.save_multiple([PrimitiveBasic() for i in range(1000)])\n",
    "\n",
    "for i in tqdm(range(1000), desc=\"Re-creating DBConns\"):\n",
    "    res = sql.connect(\n",
    "        \"./.pyodb/pyodb.db\"\n",
    "    ).execute(\n",
    "        \"SELECT * FROM \\\"test.test_models.primitive_models.PrimitiveBasic\\\"\"\n",
    "    ).fetchall()\n",
    "\n",
    "conn = sql.connect(\"./.pyodb/pyodb.db\")\n",
    "for i in tqdm(range(1000), desc=\"Using one DBConn\"):\n",
    "    res = conn.execute(\n",
    "        \"SELECT * FROM \\\"test.test_models.primitive_models.PrimitiveBasic\\\"\"\n",
    "    ).fetchall()\n"
   ]
  }
 ],
 "metadata": {
  "kernelspec": {
   "display_name": "pyodb",
   "language": "python",
   "name": "python3"
  },
  "language_info": {
   "codemirror_mode": {
    "name": "ipython",
    "version": 3
   },
   "file_extension": ".py",
   "mimetype": "text/x-python",
   "name": "python",
   "nbconvert_exporter": "python",
   "pygments_lexer": "ipython3",
   "version": "3.10.9"
  },
  "orig_nbformat": 4,
  "vscode": {
   "interpreter": {
    "hash": "d9a58e08c92b235b2d23b34b70556fa5089934888fdddd259328d7ff64bd1b4a"
   }
  }
 },
 "nbformat": 4,
 "nbformat_minor": 2
}
