{
 "cells": [
  {
   "attachments": {},
   "cell_type": "markdown",
   "metadata": {},
   "source": [
    "# PyODB Performance Tests\n"
   ]
  },
  {
   "cell_type": "code",
   "execution_count": 1,
   "metadata": {},
   "outputs": [],
   "source": [
    "import cProfile\n",
    "from datetime import datetime\n",
    "from pathlib import Path\n",
    "from tqdm import tqdm\n",
    "from time import sleep, time\n",
    "import sqlite3 as sql\n",
    "\n",
    "from pyodb import PyODB, PyODBCache\n",
    "from test.test_models.complex_models import ComplexBasic, ComplexContainer, ComplexMulti\n",
    "from test.test_models.primitive_models import PrimitiveBasic, PrimitiveContainer"
   ]
  },
  {
   "attachments": {},
   "cell_type": "markdown",
   "metadata": {},
   "source": [
    "### Test Uid generator performance"
   ]
  },
  {
   "cell_type": "code",
   "execution_count": 5,
   "metadata": {},
   "outputs": [
    {
     "name": "stderr",
     "output_type": "stream",
     "text": [
      "100%|██████████| 1000000/1000000 [00:00<00:00, 1124607.03it/s]"
     ]
    },
    {
     "name": "stdout",
     "output_type": "stream",
     "text": [
      "Time taken: 1.037ms\n",
      "['5MFNtW4fBllbh_cN08KFJATQxUxQJOfY', 'nvOt-bFgVjXIderElxd6fiesghqhnb0h', 'jBIJOTTV_JXd2CWY8Q9-KJjVm9VqzQsq', 'EObyqGRNoAVsAJ4s-aT-6pSFZY7CuTcd', 'vq82Jog_AInpoQyUZsyKLkbHnjQ89A-0', 'ssWfpElBDJDDuwl2il9v0MQt0z8mo8ak', 'B7WeoJYjkY8ceVllG_ZGfHaBlF9HIRzA', 'wjo_edwa-ZaGnf4WriWRGlZCHmHPppdB', 'iEXmvJm81_JwZKFrdB_neo7quj-l0JR3', 'BkmGJIMEG5c0Ta2AmwL9OxM9MBpzgKpf']\n"
     ]
    },
    {
     "name": "stderr",
     "output_type": "stream",
     "text": [
      "\n"
     ]
    }
   ],
   "source": [
    "from pyodb._util import generate_uid\n",
    "start = time()\n",
    "uids = []\n",
    "for _ in tqdm(range(1_000_000)):\n",
    "    uids.append(generate_uid())\n",
    "print(f\"Time taken: {time()-start:.3f}ms\")\n",
    "print(uids[:10])"
   ]
  },
  {
   "attachments": {},
   "cell_type": "markdown",
   "metadata": {},
   "source": [
    "### Test save performance"
   ]
  },
  {
   "cell_type": "code",
   "execution_count": 6,
   "metadata": {},
   "outputs": [],
   "source": [
    "complex_basic = [ComplexBasic() for _ in range(10000)]\n",
    "complex_multi = [ComplexMulti() for _ in range(1000)]\n",
    "complex_container = [ComplexContainer() for _ in range(100)]\n",
    "\n",
    "def test_insert_performance():\n",
    "    pyodb = PyODB(0)\n",
    "    pyodb.add_type(ComplexBasic)\n",
    "    pyodb.add_type(ComplexContainer)\n",
    "    pyodb.add_type(ComplexMulti)\n",
    "\n",
    "    pyodb.save_multiple(complex_basic)\n",
    "    pyodb.save_multiple(complex_multi)\n",
    "    pyodb.save_multiple(complex_container)\n",
    "    del pyodb\n",
    "\n",
    "base_path = Path(\".profile/\")\n",
    "base_path.mkdir(755, exist_ok=True)\n",
    "\n",
    "filepath = base_path / f\"profile_insert_{datetime.now().strftime('%y.%m.%d-%H.%M.%S')}.prof\"\n",
    "cProfile.run(\"test_insert_performance()\", filepath.as_posix())\n"
   ]
  },
  {
   "attachments": {},
   "cell_type": "markdown",
   "metadata": {},
   "source": [
    "### Test load performance"
   ]
  },
  {
   "cell_type": "code",
   "execution_count": 7,
   "metadata": {},
   "outputs": [
    {
     "name": "stdout",
     "output_type": "stream",
     "text": [
      "Generating...\n",
      "Generating done!\n"
     ]
    }
   ],
   "source": [
    "pyodb = PyODB(0)\n",
    "pyodb.add_type(ComplexBasic)\n",
    "pyodb.add_type(ComplexContainer)\n",
    "pyodb.add_type(ComplexMulti)\n",
    "print(\"Generating...\")\n",
    "pyodb.save_multiple([ComplexBasic() for _ in range(10000)])\n",
    "pyodb.save_multiple([ComplexMulti() for _ in range(1000)])\n",
    "pyodb.save_multiple([ComplexContainer() for _ in range(100)])\n",
    "print(\"Generating done!\")\n",
    "\n",
    "def test_load_performance():\n",
    "    pyodb.select(ComplexBasic).all()\n",
    "    pyodb.select(ComplexContainer).all()\n",
    "    pyodb.select(ComplexMulti).all()\n",
    "\n",
    "base_path = Path(\".profile/\")\n",
    "base_path.mkdir(755, exist_ok=True)\n",
    "\n",
    "filepath = base_path / f\"profile_load_{datetime.now().strftime('%y.%m.%d-%H.%M.%S')}.prof\"\n",
    "cProfile.run(\"test_load_performance()\", filepath.as_posix())\n",
    "del pyodb"
   ]
  },
  {
   "attachments": {},
   "cell_type": "markdown",
   "metadata": {},
   "source": [
    "### Test overall performance"
   ]
  },
  {
   "cell_type": "code",
   "execution_count": 8,
   "metadata": {},
   "outputs": [
    {
     "name": "stderr",
     "output_type": "stream",
     "text": [
      "100%|██████████| 10/10 [00:21<00:00,  2.14s/it]\n"
     ]
    }
   ],
   "source": [
    "def test_performance():\n",
    "    pyodb = PyODB(0)\n",
    "    pyodb.add_type(ComplexBasic)\n",
    "    pyodb.save(ComplexContainer())\n",
    "    pyodb.add_type(ComplexMulti)\n",
    "\n",
    "    for _ in tqdm(range(10)):\n",
    "        pyodb.save_multiple([ComplexBasic() for _ in range(1000)])\n",
    "        pyodb.save_multiple([ComplexMulti() for _ in range(100)])\n",
    "        pyodb.save_multiple([ComplexContainer() for _ in range(10)])\n",
    "\n",
    "        pyodb.delete(ComplexBasic).gt(random_number = 0).commit()\n",
    "        pyodb.remove_type(ComplexContainer)\n",
    "        pyodb.add_type(ComplexContainer)\n",
    "    del pyodb\n",
    "\n",
    "\n",
    "base_path = Path(\".profile/\")\n",
    "base_path.mkdir(755, exist_ok=True)\n",
    "\n",
    "filepath = base_path / f\"profile_overall_{datetime.now().strftime('%y.%m.%d-%H.%M.%S')}.prof\"\n",
    "cProfile.run(\"test_performance()\", filepath.as_posix())"
   ]
  },
  {
   "cell_type": "code",
   "execution_count": 9,
   "metadata": {},
   "outputs": [
    {
     "name": "stderr",
     "output_type": "stream",
     "text": [
      "Inserting base data: 100%|██████████| 10/10 [00:01<00:00,  6.32it/s]\n",
      "Testing PrimitiveBasic: 100%|██████████| 100/100 [00:01<00:00, 72.36it/s]\n",
      "Testing PrimitiveContainer: 100%|██████████| 100/100 [00:03<00:00, 29.00it/s]\n",
      "Testing ComplexBasic: 100%|██████████| 100/100 [00:10<00:00,  9.14it/s]\n",
      "Testing ComplexContainer: 100%|██████████| 100/100 [00:00<00:00, 140.30it/s]\n"
     ]
    }
   ],
   "source": [
    "def insert_base_data():\n",
    "    pyodb = PyODB(persistent=True)\n",
    "    pyodb.add_type(ComplexBasic)\n",
    "    pyodb.add_type(ComplexContainer)\n",
    "    pyodb.add_type(ComplexMulti)\n",
    "\n",
    "    for _ in tqdm(range(10), desc=\"Inserting base data\"):\n",
    "        pyodb.save_multiple([ComplexBasic() for _ in range(100)])\n",
    "        pyodb.save_multiple([ComplexContainer() for _ in range(10)])\n",
    "        pyodb.save_multiple([ComplexMulti() for _ in range(100)])\n",
    "\n",
    "\n",
    "def test_select_performance():\n",
    "    pyodb = PyODB()\n",
    "    for _ in tqdm(range(100), desc=\"Testing PrimitiveBasic\"):\n",
    "        pyodb.select(PrimitiveBasic).all()\n",
    "    for _ in tqdm(range(100), desc=\"Testing PrimitiveContainer\"):\n",
    "        pyodb.select(PrimitiveContainer).all()\n",
    "    for _ in tqdm(range(100), desc=\"Testing ComplexBasic\"):\n",
    "        pyodb.select(ComplexBasic).all()\n",
    "    for _ in tqdm(range(100), desc=\"Testing ComplexContainer\"):\n",
    "        pyodb.select(ComplexContainer).all()\n",
    "\n",
    "\n",
    "base_path = Path(\".profile/\")\n",
    "base_path.mkdir(755, exist_ok=True)\n",
    "\n",
    "filepath = base_path / f\"profile_select_{datetime.now().strftime('%y.%m.%d-%H.%M.%S')}.prof\"\n",
    "insert_base_data()\n",
    "cProfile.run(\"test_select_performance()\", filepath.as_posix())"
   ]
  },
  {
   "cell_type": "code",
   "execution_count": 11,
   "metadata": {},
   "outputs": [
    {
     "name": "stdout",
     "output_type": "stream",
     "text": [
      "[<test.test_models.complex_models.ComplexMulti object at 0x7f43eb8aaa10>, <test.test_models.complex_models.ComplexMulti object at 0x7f43eb86a950>, <test.test_models.complex_models.ComplexMulti object at 0x7f43eb86b790>, <test.test_models.complex_models.ComplexMulti object at 0x7f43eb869090>, <test.test_models.complex_models.ComplexMulti object at 0x7f43eb868610>, <test.test_models.complex_models.ComplexMulti object at 0x7f43eb86af90>, <test.test_models.complex_models.ComplexMulti object at 0x7f43eb868190>, <test.test_models.complex_models.ComplexMulti object at 0x7f43eb869d10>, <test.test_models.complex_models.ComplexMulti object at 0x7f43eb86bc50>, <test.test_models.complex_models.ComplexMulti object at 0x7f43eb869a90>, <test.test_models.complex_models.ComplexMulti object at 0x7f43eb86a5d0>, <test.test_models.complex_models.ComplexMulti object at 0x7f43eb868b10>, <test.test_models.complex_models.ComplexMulti object at 0x7f43eb86a7d0>, <test.test_models.complex_models.ComplexMulti object at 0x7f43eb869cd0>, <test.test_models.complex_models.ComplexMulti object at 0x7f43eb868650>, <test.test_models.complex_models.ComplexMulti object at 0x7f43eb86aa10>, <test.test_models.complex_models.ComplexMulti object at 0x7f43eb8685d0>, <test.test_models.complex_models.ComplexMulti object at 0x7f43eb868890>, <test.test_models.complex_models.ComplexMulti object at 0x7f43eb868990>, <test.test_models.complex_models.ComplexMulti object at 0x7f43eb868fd0>, <test.test_models.complex_models.ComplexMulti object at 0x7f43eb869610>, <test.test_models.complex_models.ComplexMulti object at 0x7f43eb86b310>, <test.test_models.complex_models.ComplexMulti object at 0x7f43eb868a90>, <test.test_models.complex_models.ComplexMulti object at 0x7f43ebddbd90>, <test.test_models.complex_models.ComplexMulti object at 0x7f43ebddbd10>, <test.test_models.complex_models.ComplexMulti object at 0x7f43ef241410>, <test.test_models.complex_models.ComplexMulti object at 0x7f43ef240d10>, <test.test_models.complex_models.ComplexMulti object at 0x7f43ef241a10>, <test.test_models.complex_models.ComplexMulti object at 0x7f43ef241bd0>, <test.test_models.complex_models.ComplexMulti object at 0x7f43ef242410>, <test.test_models.complex_models.ComplexMulti object at 0x7f43ef241710>, <test.test_models.complex_models.ComplexMulti object at 0x7f43ebac0b50>, <test.test_models.complex_models.ComplexMulti object at 0x7f43ebac1b90>, <test.test_models.complex_models.ComplexMulti object at 0x7f43ebac2b50>, <test.test_models.complex_models.ComplexMulti object at 0x7f43ebac3890>, <test.test_models.complex_models.ComplexMulti object at 0x7f43ebac2f90>, <test.test_models.complex_models.ComplexMulti object at 0x7f43ebac1a50>, <test.test_models.complex_models.ComplexMulti object at 0x7f43ebac0350>, <test.test_models.complex_models.ComplexMulti object at 0x7f43ebac2cd0>, <test.test_models.complex_models.ComplexMulti object at 0x7f43ebac1610>, <test.test_models.complex_models.ComplexMulti object at 0x7f43ebac3310>, <test.test_models.complex_models.ComplexMulti object at 0x7f43ebac35d0>, <test.test_models.complex_models.ComplexMulti object at 0x7f43ebac2350>, <test.test_models.complex_models.ComplexMulti object at 0x7f43ebac0d50>, <test.test_models.complex_models.ComplexMulti object at 0x7f43ebac3250>, <test.test_models.complex_models.ComplexMulti object at 0x7f43ebac2690>, <test.test_models.complex_models.ComplexMulti object at 0x7f43ebac3fd0>, <test.test_models.complex_models.ComplexMulti object at 0x7f43ebac3cd0>, <test.test_models.complex_models.ComplexMulti object at 0x7f43eb4d1e10>, <test.test_models.complex_models.ComplexMulti object at 0x7f43eb4d18d0>, <test.test_models.complex_models.ComplexMulti object at 0x7f43eb4d11d0>, <test.test_models.complex_models.ComplexMulti object at 0x7f43eb4d2f90>, <test.test_models.complex_models.ComplexMulti object at 0x7f43eb4d2dd0>, <test.test_models.complex_models.ComplexMulti object at 0x7f43eb4d1650>, <test.test_models.complex_models.ComplexMulti object at 0x7f43eb4d3810>, <test.test_models.complex_models.ComplexMulti object at 0x7f43eb4d0450>, <test.test_models.complex_models.ComplexMulti object at 0x7f43eb4d2ad0>, <test.test_models.complex_models.ComplexMulti object at 0x7f43eb4d1890>, <test.test_models.complex_models.ComplexMulti object at 0x7f43eb4d2950>, <test.test_models.complex_models.ComplexMulti object at 0x7f43eb4d0dd0>, <test.test_models.complex_models.ComplexMulti object at 0x7f43eb4d0f10>, <test.test_models.complex_models.ComplexMulti object at 0x7f43eb4d2690>, <test.test_models.complex_models.ComplexMulti object at 0x7f43eb4d1550>, <test.test_models.complex_models.ComplexMulti object at 0x7f43eb4d0e90>, <test.test_models.complex_models.ComplexMulti object at 0x7f43eb422f90>, <test.test_models.complex_models.ComplexMulti object at 0x7f43eb422150>, <test.test_models.complex_models.ComplexMulti object at 0x7f43eb4206d0>, <test.test_models.complex_models.ComplexMulti object at 0x7f43eb421a90>, <test.test_models.complex_models.ComplexMulti object at 0x7f43eb420810>, <test.test_models.complex_models.ComplexMulti object at 0x7f43eb423590>, <test.test_models.complex_models.ComplexMulti object at 0x7f43eb423610>, <test.test_models.complex_models.ComplexMulti object at 0x7f43eb421610>, <test.test_models.complex_models.ComplexMulti object at 0x7f43eb420b90>, <test.test_models.complex_models.ComplexMulti object at 0x7f43eb423d90>, <test.test_models.complex_models.ComplexMulti object at 0x7f43eb420390>, <test.test_models.complex_models.ComplexMulti object at 0x7f43eb423250>, <test.test_models.complex_models.ComplexMulti object at 0x7f43eb4235d0>, <test.test_models.complex_models.ComplexMulti object at 0x7f43eb423210>, <test.test_models.complex_models.ComplexMulti object at 0x7f43eb423ed0>, <test.test_models.complex_models.ComplexMulti object at 0x7f43eb5d98d0>, <test.test_models.complex_models.ComplexMulti object at 0x7f43eb5db8d0>, <test.test_models.complex_models.ComplexMulti object at 0x7f43eb5dae50>, <test.test_models.complex_models.ComplexMulti object at 0x7f43eb5db450>, <test.test_models.complex_models.ComplexMulti object at 0x7f43eb5d8a50>, <test.test_models.complex_models.ComplexMulti object at 0x7f43eb5d8d10>, <test.test_models.complex_models.ComplexMulti object at 0x7f43eb5d8850>, <test.test_models.complex_models.ComplexMulti object at 0x7f43eb5db390>, <test.test_models.complex_models.ComplexMulti object at 0x7f43eb5dad90>, <test.test_models.complex_models.ComplexMulti object at 0x7f43eb5d9750>, <test.test_models.complex_models.ComplexMulti object at 0x7f43eb5dbd10>, <test.test_models.complex_models.ComplexMulti object at 0x7f43eb5daf90>, <test.test_models.complex_models.ComplexMulti object at 0x7f43eb5da790>, <test.test_models.complex_models.ComplexMulti object at 0x7f43eb5d8150>, <test.test_models.complex_models.ComplexMulti object at 0x7f43eb5db5d0>, <test.test_models.complex_models.ComplexMulti object at 0x7f43eb5d8050>, <test.test_models.complex_models.ComplexMulti object at 0x7f43eb5db090>, <test.test_models.complex_models.ComplexMulti object at 0x7f43eb5d8cd0>, <test.test_models.complex_models.ComplexMulti object at 0x7f43eb5d9710>, <test.test_models.complex_models.ComplexMulti object at 0x7f43ebc02a10>, <test.test_models.complex_models.ComplexMulti object at 0x7f43ebc01290>]\n",
      "[<test.test_models.complex_models.ComplexMulti object at 0x7f43eb8aaa10>, <test.test_models.complex_models.ComplexMulti object at 0x7f43eb86a950>, <test.test_models.complex_models.ComplexMulti object at 0x7f43eb86b790>, <test.test_models.complex_models.ComplexMulti object at 0x7f43eb869090>, <test.test_models.complex_models.ComplexMulti object at 0x7f43eb868610>, <test.test_models.complex_models.ComplexMulti object at 0x7f43eb86af90>, <test.test_models.complex_models.ComplexMulti object at 0x7f43eb868190>, <test.test_models.complex_models.ComplexMulti object at 0x7f43eb869d10>, <test.test_models.complex_models.ComplexMulti object at 0x7f43eb86bc50>, <test.test_models.complex_models.ComplexMulti object at 0x7f43eb869a90>, <test.test_models.complex_models.ComplexMulti object at 0x7f43eb86a5d0>, <test.test_models.complex_models.ComplexMulti object at 0x7f43eb868b10>, <test.test_models.complex_models.ComplexMulti object at 0x7f43eb86a7d0>, <test.test_models.complex_models.ComplexMulti object at 0x7f43eb869cd0>, <test.test_models.complex_models.ComplexMulti object at 0x7f43eb868650>, <test.test_models.complex_models.ComplexMulti object at 0x7f43eb86aa10>, <test.test_models.complex_models.ComplexMulti object at 0x7f43eb8685d0>, <test.test_models.complex_models.ComplexMulti object at 0x7f43eb868890>, <test.test_models.complex_models.ComplexMulti object at 0x7f43eb868990>, <test.test_models.complex_models.ComplexMulti object at 0x7f43eb868fd0>, <test.test_models.complex_models.ComplexMulti object at 0x7f43eb869610>, <test.test_models.complex_models.ComplexMulti object at 0x7f43eb86b310>, <test.test_models.complex_models.ComplexMulti object at 0x7f43eb868a90>, <test.test_models.complex_models.ComplexMulti object at 0x7f43ebddbd90>, <test.test_models.complex_models.ComplexMulti object at 0x7f43ebddbd10>, <test.test_models.complex_models.ComplexMulti object at 0x7f43ef241410>, <test.test_models.complex_models.ComplexMulti object at 0x7f43ef240d10>, <test.test_models.complex_models.ComplexMulti object at 0x7f43ef241a10>, <test.test_models.complex_models.ComplexMulti object at 0x7f43ef241bd0>, <test.test_models.complex_models.ComplexMulti object at 0x7f43ef242410>, <test.test_models.complex_models.ComplexMulti object at 0x7f43ef241710>, <test.test_models.complex_models.ComplexMulti object at 0x7f43ebac0b50>, <test.test_models.complex_models.ComplexMulti object at 0x7f43ebac1b90>, <test.test_models.complex_models.ComplexMulti object at 0x7f43ebac2b50>, <test.test_models.complex_models.ComplexMulti object at 0x7f43ebac3890>, <test.test_models.complex_models.ComplexMulti object at 0x7f43ebac2f90>, <test.test_models.complex_models.ComplexMulti object at 0x7f43ebac1a50>, <test.test_models.complex_models.ComplexMulti object at 0x7f43ebac0350>, <test.test_models.complex_models.ComplexMulti object at 0x7f43ebac2cd0>, <test.test_models.complex_models.ComplexMulti object at 0x7f43ebac1610>, <test.test_models.complex_models.ComplexMulti object at 0x7f43ebac3310>, <test.test_models.complex_models.ComplexMulti object at 0x7f43ebac35d0>, <test.test_models.complex_models.ComplexMulti object at 0x7f43ebac2350>, <test.test_models.complex_models.ComplexMulti object at 0x7f43ebac0d50>, <test.test_models.complex_models.ComplexMulti object at 0x7f43ebac3250>, <test.test_models.complex_models.ComplexMulti object at 0x7f43ebac2690>, <test.test_models.complex_models.ComplexMulti object at 0x7f43ebac3fd0>, <test.test_models.complex_models.ComplexMulti object at 0x7f43ebac3cd0>, <test.test_models.complex_models.ComplexMulti object at 0x7f43eb4d1e10>, <test.test_models.complex_models.ComplexMulti object at 0x7f43eb4d18d0>, <test.test_models.complex_models.ComplexMulti object at 0x7f43eb4d11d0>, <test.test_models.complex_models.ComplexMulti object at 0x7f43eb4d2f90>, <test.test_models.complex_models.ComplexMulti object at 0x7f43eb4d2dd0>, <test.test_models.complex_models.ComplexMulti object at 0x7f43eb4d1650>, <test.test_models.complex_models.ComplexMulti object at 0x7f43eb4d3810>, <test.test_models.complex_models.ComplexMulti object at 0x7f43eb4d0450>, <test.test_models.complex_models.ComplexMulti object at 0x7f43eb4d2ad0>, <test.test_models.complex_models.ComplexMulti object at 0x7f43eb4d1890>, <test.test_models.complex_models.ComplexMulti object at 0x7f43eb4d2950>, <test.test_models.complex_models.ComplexMulti object at 0x7f43eb4d0dd0>, <test.test_models.complex_models.ComplexMulti object at 0x7f43eb4d0f10>, <test.test_models.complex_models.ComplexMulti object at 0x7f43eb4d2690>, <test.test_models.complex_models.ComplexMulti object at 0x7f43eb4d1550>, <test.test_models.complex_models.ComplexMulti object at 0x7f43eb4d0e90>, <test.test_models.complex_models.ComplexMulti object at 0x7f43eb422f90>, <test.test_models.complex_models.ComplexMulti object at 0x7f43eb422150>, <test.test_models.complex_models.ComplexMulti object at 0x7f43eb4206d0>, <test.test_models.complex_models.ComplexMulti object at 0x7f43eb421a90>, <test.test_models.complex_models.ComplexMulti object at 0x7f43eb420810>, <test.test_models.complex_models.ComplexMulti object at 0x7f43eb423590>, <test.test_models.complex_models.ComplexMulti object at 0x7f43eb423610>, <test.test_models.complex_models.ComplexMulti object at 0x7f43eb421610>, <test.test_models.complex_models.ComplexMulti object at 0x7f43eb420b90>, <test.test_models.complex_models.ComplexMulti object at 0x7f43eb423d90>, <test.test_models.complex_models.ComplexMulti object at 0x7f43eb420390>, <test.test_models.complex_models.ComplexMulti object at 0x7f43eb423250>, <test.test_models.complex_models.ComplexMulti object at 0x7f43eb4235d0>, <test.test_models.complex_models.ComplexMulti object at 0x7f43eb423210>, <test.test_models.complex_models.ComplexMulti object at 0x7f43eb423ed0>, <test.test_models.complex_models.ComplexMulti object at 0x7f43eb5d98d0>, <test.test_models.complex_models.ComplexMulti object at 0x7f43eb5db8d0>, <test.test_models.complex_models.ComplexMulti object at 0x7f43eb5dae50>, <test.test_models.complex_models.ComplexMulti object at 0x7f43eb5db450>, <test.test_models.complex_models.ComplexMulti object at 0x7f43eb5d8a50>, <test.test_models.complex_models.ComplexMulti object at 0x7f43eb5d8d10>, <test.test_models.complex_models.ComplexMulti object at 0x7f43eb5d8850>, <test.test_models.complex_models.ComplexMulti object at 0x7f43eb5db390>, <test.test_models.complex_models.ComplexMulti object at 0x7f43eb5dad90>, <test.test_models.complex_models.ComplexMulti object at 0x7f43eb5d9750>, <test.test_models.complex_models.ComplexMulti object at 0x7f43eb5dbd10>, <test.test_models.complex_models.ComplexMulti object at 0x7f43eb5daf90>, <test.test_models.complex_models.ComplexMulti object at 0x7f43eb5da790>, <test.test_models.complex_models.ComplexMulti object at 0x7f43eb5d8150>, <test.test_models.complex_models.ComplexMulti object at 0x7f43eb5db5d0>, <test.test_models.complex_models.ComplexMulti object at 0x7f43eb5d8050>, <test.test_models.complex_models.ComplexMulti object at 0x7f43eb5db090>, <test.test_models.complex_models.ComplexMulti object at 0x7f43eb5d8cd0>, <test.test_models.complex_models.ComplexMulti object at 0x7f43eb5d9710>, <test.test_models.complex_models.ComplexMulti object at 0x7f43ebc02a10>, <test.test_models.complex_models.ComplexMulti object at 0x7f43ebc01290>]\n",
      "8.797645568847656e-05\n",
      "[<test.test_models.complex_models.ComplexMulti object at 0x7f43eb8aaa10>]\n"
     ]
    }
   ],
   "source": [
    "cache = PyODBCache()\n",
    "cache.pyodb.persistent = True\n",
    "cache.add_cache(\"test\", lambda x: [ComplexMulti() for _ in range(x)], ComplexMulti, 2)\n",
    "print(cache.get_data(\"test\", 100))\n",
    "\n",
    "start = time()\n",
    "print(cache[\"test\"])\n",
    "print(time() - start)\n",
    "\n",
    "sleep(2)\n",
    "print(cache.get_data(\"test\", 1))\n",
    "del cache"
   ]
  },
  {
   "attachments": {},
   "cell_type": "markdown",
   "metadata": {},
   "source": [
    "## PyODB Examples\n",
    "\n",
    "### Basic Example"
   ]
  },
  {
   "cell_type": "code",
   "execution_count": null,
   "metadata": {},
   "outputs": [],
   "source": [
    "class MyType:\n",
    "    some_data: list[str]\n",
    "    some_number: int | None\n",
    "\n",
    "    def __init__(self, number: int):\n",
    "        self.some_data = [\"Hello\", \"World\"]\n",
    "        self.some_number = number\n",
    "    \n",
    "    def __repr__(self) -> str:\n",
    "        return f\"MyType: {self.some_number}\"\n",
    "\n",
    "# Create PyODB instance\n",
    "pyodb = PyODB()\n",
    "\n",
    "# Add type and save some instances\n",
    "pyodb.add_type(MyType)\n",
    "pyodb.save(MyType(1))\n",
    "pyodb.save_multiple([MyType(2), MyType(3), MyType(4), MyType(5)])\n",
    "\n",
    "# Need data elsewhere\n",
    "select = pyodb.select(MyType)\n",
    "## only get instances where some_number > 2\n",
    "select.gt(some_number = 2)\n",
    "## Res now contains the members\n",
    "res = select.all()\n",
    "print(res)\n",
    "\n",
    "# The select can also be done in a one-liner\n",
    "res = pyodb.select(MyType).gt(some_number = 2).all()\n",
    "print(res)\n",
    "\n",
    "# Delete the saved entries\n",
    "deleted = pyodb.delete(MyType).gt(some_number = 2).commit()\n",
    "print(f\"Deleted {deleted} entries\")\n",
    "\n",
    "# Count remaining entries\n",
    "count = pyodb.select(MyType).count()\n",
    "print(f\"{count} entries remaining\")\n",
    "\n",
    "# Clear the database keeping the table definitions\n",
    "pyodb.clear()\n",
    "\n",
    "# Show and then remove the type definition\n",
    "print(pyodb.known_types)\n",
    "pyodb.remove_type(MyType)\n",
    "print(pyodb.known_types)\n"
   ]
  },
  {
   "attachments": {},
   "cell_type": "markdown",
   "metadata": {},
   "source": [
    "### DBConn Performance Test"
   ]
  },
  {
   "cell_type": "code",
   "execution_count": null,
   "metadata": {},
   "outputs": [],
   "source": [
    "pyodb.add_type(PrimitiveBasic)\n",
    "pyodb.save_multiple([PrimitiveBasic() for i in range(1000)])\n",
    "\n",
    "for i in tqdm(range(1000), desc=\"Re-creating DBConns\"):\n",
    "    res = sql.connect(\n",
    "        \"./.pyodb/pyodb.db\"\n",
    "    ).execute(\n",
    "        \"SELECT * FROM \\\"test.test_models.primitive_models.PrimitiveBasic\\\"\"\n",
    "    ).fetchall()\n",
    "\n",
    "conn = sql.connect(\"./.pyodb/pyodb.db\")\n",
    "for i in tqdm(range(1000), desc=\"Using one DBConn\"):\n",
    "    res = conn.execute(\n",
    "        \"SELECT * FROM \\\"test.test_models.primitive_models.PrimitiveBasic\\\"\"\n",
    "    ).fetchall()\n"
   ]
  }
 ],
 "metadata": {
  "kernelspec": {
   "display_name": "pyodb",
   "language": "python",
   "name": "python3"
  },
  "language_info": {
   "codemirror_mode": {
    "name": "ipython",
    "version": 3
   },
   "file_extension": ".py",
   "mimetype": "text/x-python",
   "name": "python",
   "nbconvert_exporter": "python",
   "pygments_lexer": "ipython3",
   "version": "3.11.5"
  },
  "orig_nbformat": 4,
  "vscode": {
   "interpreter": {
    "hash": "d9a58e08c92b235b2d23b34b70556fa5089934888fdddd259328d7ff64bd1b4a"
   }
  }
 },
 "nbformat": 4,
 "nbformat_minor": 2
}
