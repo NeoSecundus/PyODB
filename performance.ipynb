{
 "cells": [
  {
   "cell_type": "markdown",
   "metadata": {},
   "source": [
    "# PyODB Performance Tests\n"
   ]
  },
  {
   "cell_type": "code",
   "execution_count": 1,
   "metadata": {},
   "outputs": [],
   "source": [
    "import cProfile\n",
    "from datetime import datetime\n",
    "from pathlib import Path\n",
    "from tqdm import tqdm\n",
    "from time import sleep\n",
    "\n",
    "from src.pyodb.pyodb import PyODB, PyODBCache\n",
    "from test.test_models.complex_models import ComplexBasic, ComplexContainer, ComplexMulti\n",
    "from test.test_models.primitive_models import PrimitiveBasic, PrimitiveContainer"
   ]
  },
  {
   "cell_type": "code",
   "execution_count": null,
   "metadata": {},
   "outputs": [],
   "source": [
    "def test_insert_performance():\n",
    "    pyodb = PyODB(2)\n",
    "    pyodb.add_type(ComplexBasic)\n",
    "    pyodb.save(ComplexContainer())\n",
    "    pyodb.add_type(ComplexMulti)\n",
    "\n",
    "    for _ in tqdm(range(10)):\n",
    "        pyodb.save_multiple([ComplexBasic() for _ in range(100)])\n",
    "        pyodb.save_multiple([ComplexContainer() for _ in range(10)])\n",
    "        pyodb.save_multiple([ComplexMulti() for _ in range(100)])\n",
    "\n",
    "        pyodb.delete(ComplexBasic).gt(random_number = 0).commit()\n",
    "        pyodb.remove_type(ComplexContainer)\n",
    "        pyodb.add_type(ComplexContainer)\n",
    "    del pyodb\n",
    "\n",
    "\n",
    "base_path = Path(\".profile/\")\n",
    "base_path.mkdir(755, exist_ok=True)\n",
    "\n",
    "filepath = base_path / f\"profile_insert_{datetime.now().strftime('%y.%m.%d-%H.%M.%S')}.prof\"\n",
    "cProfile.run(\"test_insert_performance()\", filepath.as_posix())"
   ]
  },
  {
   "cell_type": "code",
   "execution_count": null,
   "metadata": {},
   "outputs": [],
   "source": [
    "def insert_base_data():\n",
    "    pyodb = PyODB(persistent=True)\n",
    "    pyodb.add_type(ComplexBasic)\n",
    "    pyodb.add_type(ComplexContainer)\n",
    "    pyodb.add_type(ComplexMulti)\n",
    "\n",
    "    for _ in tqdm(range(10), desc=\"Inserting base data\"):\n",
    "        pyodb.save_multiple([ComplexBasic() for _ in range(100)])\n",
    "        pyodb.save_multiple([ComplexContainer() for _ in range(10)])\n",
    "        pyodb.save_multiple([ComplexMulti() for _ in range(100)])\n",
    "\n",
    "\n",
    "def test_select_performance():\n",
    "    pyodb = PyODB()\n",
    "    for _ in tqdm(range(100), desc=\"Testing PrimitiveBasic\"):\n",
    "        pyodb.select(PrimitiveBasic).all()\n",
    "    for _ in tqdm(range(100), desc=\"Testing PrimitiveContainer\"):\n",
    "        pyodb.select(PrimitiveContainer).all()\n",
    "    for _ in tqdm(range(100), desc=\"Testing ComplexBasic\"):\n",
    "        pyodb.select(ComplexBasic).all()\n",
    "    for _ in tqdm(range(100), desc=\"Testing ComplexContainer\"):\n",
    "        pyodb.select(ComplexContainer).all()\n",
    "\n",
    "\n",
    "base_path = Path(\".profile/\")\n",
    "base_path.mkdir(755, exist_ok=True)\n",
    "\n",
    "filepath = base_path / f\"profile_select_{datetime.now().strftime('%y.%m.%d-%H.%M.%S')}.prof\"\n",
    "insert_base_data()\n",
    "cProfile.run(\"test_select_performance()\", filepath.as_posix())"
   ]
  },
  {
   "cell_type": "code",
   "execution_count": 2,
   "metadata": {},
   "outputs": [
    {
     "name": "stdout",
     "output_type": "stream",
     "text": [
      "[PrimitiveBasic: -789, 884.8218501676095, 'i:Zgi=!G,|=9=cRhK^(g>9T f+</z$#'hpkv§FXHB0_z]qxleZZ0RN(§au$<a~v-0n)fMw=^+Xv}`r9:´Uo4wtV', False, PrimitiveBasic: 620, None, ')S8n`H', False, PrimitiveBasic: 499, None, 'kwEE.f0°2^Oa SBA/dZjO,*vwZ|CW4eWnR{FHT`>ZD4pCtd9Q[4n$:B.csT3DF t&E#K&keYGV[5`|fMf-pBYO$z`})XH3v[', False]\n",
      "[PrimitiveBasic: -789, 884.8218501676095, 'i:Zgi=!G,|=9=cRhK^(g>9T f+</z$#'hpkv§FXHB0_z]qxleZZ0RN(§au$<a~v-0n)fMw=^+Xv}`r9:´Uo4wtV', False, PrimitiveBasic: 620, None, ')S8n`H', False, PrimitiveBasic: 499, None, 'kwEE.f0°2^Oa SBA/dZjO,*vwZ|CW4eWnR{FHT`>ZD4pCtd9Q[4n$:B.csT3DF t&E#K&keYGV[5`|fMf-pBYO$z`})XH3v[', False]\n",
      "[PrimitiveBasic: -510, 725.3224373959117, 'g4/W[h:IjoRB6k=KvD2QieRS´=', False, PrimitiveBasic: 239, 28.00201143616521, 'r#~_]g*x-°3DV9*_R`!`>}ct'/+^xu*M/(JeiJ^=\"BP^Im~*Fpt&\\~doskt<IHyj3D[2Z\"W((t6/´h;j°', True]\n"
     ]
    }
   ],
   "source": [
    "cache = PyODBCache(PyODB(1))\n",
    "cache.add_cache(\"test\", lambda x: [PrimitiveBasic() for _ in range(x)], PrimitiveBasic, 2)\n",
    "print(cache.get_data(\"test\", 3))\n",
    "print(cache[\"test\"])\n",
    "sleep(2)\n",
    "print(cache.get_data(\"test\", 2))\n",
    "del cache"
   ]
  },
  {
   "cell_type": "code",
   "execution_count": null,
   "metadata": {},
   "outputs": [],
   "source": []
  }
 ],
 "metadata": {
  "kernelspec": {
   "display_name": "pyodb",
   "language": "python",
   "name": "python3"
  },
  "language_info": {
   "codemirror_mode": {
    "name": "ipython",
    "version": 3
   },
   "file_extension": ".py",
   "mimetype": "text/x-python",
   "name": "python",
   "nbconvert_exporter": "python",
   "pygments_lexer": "ipython3",
   "version": "3.10.9"
  },
  "orig_nbformat": 4,
  "vscode": {
   "interpreter": {
    "hash": "d9a58e08c92b235b2d23b34b70556fa5089934888fdddd259328d7ff64bd1b4a"
   }
  }
 },
 "nbformat": 4,
 "nbformat_minor": 2
}
